{
  "nbformat": 4,
  "nbformat_minor": 0,
  "metadata": {
    "colab": {
      "provenance": []
    },
    "kernelspec": {
      "name": "python3",
      "display_name": "Python 3"
    },
    "language_info": {
      "name": "python"
    }
  },
  "cells": [
    {
      "cell_type": "code",
      "source": [
        "!pip install rank_bm25"
      ],
      "metadata": {
        "colab": {
          "base_uri": "https://localhost:8080/"
        },
        "id": "j6gsgB_4yz2F",
        "outputId": "6baf3d02-a4b9-4aed-df34-ed8f9d9ffd66"
      },
      "execution_count": 1,
      "outputs": [
        {
          "output_type": "stream",
          "name": "stdout",
          "text": [
            "Requirement already satisfied: rank_bm25 in /usr/local/lib/python3.11/dist-packages (0.2.2)\n",
            "Requirement already satisfied: numpy in /usr/local/lib/python3.11/dist-packages (from rank_bm25) (2.0.2)\n"
          ]
        }
      ]
    },
    {
      "cell_type": "code",
      "source": [
        "import os\n",
        "from google.colab import drive\n",
        "drive.mount('/content/drive', force_remount=True)\n",
        "\n",
        "pkl_folder = '/content/drive/My Drive/pkl files'\n",
        "pkl_files = [os.path.join(pkl_folder, f) for f in os.listdir(pkl_folder)]\n",
        "\n",
        "print(pkl_files)"
      ],
      "metadata": {
        "colab": {
          "base_uri": "https://localhost:8080/"
        },
        "id": "BsSPxxVBo64T",
        "outputId": "b912de1e-bbf9-4db9-b000-7f74680b9932"
      },
      "execution_count": 2,
      "outputs": [
        {
          "output_type": "stream",
          "name": "stdout",
          "text": [
            "Mounted at /content/drive\n",
            "['/content/drive/My Drive/pkl files/battery_word_counts.pkl', '/content/drive/My Drive/pkl files/urbanization_wildfire_word_counts.pkl', '/content/drive/My Drive/pkl files/genetic_engineering_word_counts.pkl', '/content/drive/My Drive/pkl files/ethical_ai_query_word_counts.pkl', '/content/drive/My Drive/pkl files/social_media_word_counts.pkl', '/content/drive/My Drive/pkl files/smoking_query_word_counts.pkl', '/content/drive/My Drive/pkl files/metabolic_fasting_word_counts.pkl', '/content/drive/My Drive/pkl files/climate_change_word_counts.pkl']\n"
          ]
        }
      ]
    },
    {
      "cell_type": "code",
      "source": [
        "for pkl in pkl_files:\n",
        "  print(pkl)"
      ],
      "metadata": {
        "colab": {
          "base_uri": "https://localhost:8080/"
        },
        "id": "_n8Prj71tAJQ",
        "outputId": "e67a3a97-5bab-49c4-cd15-a42b028594b9"
      },
      "execution_count": 3,
      "outputs": [
        {
          "output_type": "stream",
          "name": "stdout",
          "text": [
            "/content/drive/My Drive/pkl files/battery_word_counts.pkl\n",
            "/content/drive/My Drive/pkl files/urbanization_wildfire_word_counts.pkl\n",
            "/content/drive/My Drive/pkl files/genetic_engineering_word_counts.pkl\n",
            "/content/drive/My Drive/pkl files/ethical_ai_query_word_counts.pkl\n",
            "/content/drive/My Drive/pkl files/social_media_word_counts.pkl\n",
            "/content/drive/My Drive/pkl files/smoking_query_word_counts.pkl\n",
            "/content/drive/My Drive/pkl files/metabolic_fasting_word_counts.pkl\n",
            "/content/drive/My Drive/pkl files/climate_change_word_counts.pkl\n"
          ]
        }
      ]
    },
    {
      "cell_type": "code",
      "source": [
        "import pickle\n",
        "path = '/content/drive/My Drive/pkl files/'\n",
        "map = {'Effects of smoking on lung cancer': 'smoking_query_word_counts.pkl',\n",
        "       'Ethical implications of AI': 'ethical_ai_query_word_counts.pkl',\n",
        "       'Climate change and wildfires': 'climate_change_word_counts.pkl',\n",
        "      #  'Benefits of a healthy gut': '',\n",
        "      #  'How exercise affects mental health': '',\n",
        "       'Effects of Fasting on Metabolic Health': 'metabolic_fasting_word_counts.pkl',\n",
        "       'Psychological effects of social media on children and teens': 'social_media_word_counts.pkl',\n",
        "       'Impacts of urbanization on wildlife biodiversity': 'urbanization_wildfire_word_counts.pkl',\n",
        "       'Battery technology advancements for electric vehicles': 'battery_word_counts.pkl',\n",
        "       'Genetic engineering as treatment for genetic disorders': 'genetic_engineering_word_counts.pkl'\n",
        "       }\n",
        "\n",
        "all_data = {}\n",
        "# load query dict\n",
        "for query, pkl in map.items():\n",
        "  with open(path + pkl, \"rb\") as f:\n",
        "    all_data[query] = pickle.load(f)"
      ],
      "metadata": {
        "id": "WXberyKzqVMP"
      },
      "execution_count": 4,
      "outputs": []
    },
    {
      "cell_type": "code",
      "source": [
        "print(all_data['Climate change and wildfires'][list(all_data['Climate change and wildfires'].keys())[1]]['tokens'])"
      ],
      "metadata": {
        "colab": {
          "base_uri": "https://localhost:8080/"
        },
        "id": "R5EYZgJZ-xXd",
        "outputId": "be875f9d-a9dc-4b29-cf39-26b2b3bc8b98"
      },
      "execution_count": 5,
      "outputs": [
        {
          "output_type": "stream",
          "name": "stdout",
          "text": [
            "Counter({'and': 279, 'the': 238, 'of': 176, 'to': 136, 'fire': 135, 'stream': 125, 'in': 121, 'temperature': 106, 'a': 95, 'for': 86, 'climate': 76, 'on': 76, 'et': 59, 'al': 58, 'at': 53, 'management': 51, 'change': 48, 'with': 46, 'model': 39, 'temperatures': 38, 'across': 38, 'effects': 36, 'from': 35, 'that': 35, 'scale': 31, '1': 31, 'by': 31, 'was': 30, 'wildfire': 28, 'radiation': 28, 'We': 27, 'spatial': 27, 'were': 27, 'air': 26, 'J': 26, 'is': 25, '2011': 25, '2': 24, 'as': 23, '2014': 22, 'landscape': 22, 'we': 22, 'solar': 22, 'Climate': 22, 'scales': 21, 'Fire': 21, 'increases': 20, 'changes': 20, 'The': 19, '2010': 19, '°C': 19, 'severity': 19, 'riparian': 18, 'Change': 18, 'all': 18, 'A2': 18, 'S': 18, 'climates': 17, 'each': 17, '2013': 16, 'are': 16, 'warming': 16, 'but': 16, 'conditions': 16, 'Climatic': 16, '124:191–206': 16, 'Online': 16, 'Resource': 16, 'Isaak': 15, 'fires': 15, 'our': 15, 'year': 15, 'vegetation': 14, 'FireBGCv2': 14, 'fuel': 14, 'precipitation': 14, 'more': 14, 'N': 14, 'be': 13, 'used': 13, 'suppression': 13, 'future': 13, 'basin': 13, 'had': 13, 'area': 13, 'burned': 13, 'time': 13, 'consumed': 13, 'modeling': 12, 'temporal': 12, 'which': 12, 'Montana': 12, 'water': 12, 'At': 12, 'treatment': 12, 'influence': 12, 'regimes': 12, 'Fig': 12, 'most': 12, 'historical': 12, 'where': 12, 'A': 12, 'two': 12, 'within': 12, 'processes': 12, 'using': 12, 'simulations': 12, 'affect': 11, 'only': 11, '2012': 11, 'effect': 11, 'three': 11, 'B2': 11, '4': 11, 'relative': 10, 'not': 10, 'daily': 10, 'thermal': 10, 'scenarios': 10, '2007': 10, '2009': 10, '2003': 10, 'models': 10, 'also': 10, 'streams': 10, 'small': 10, 'ecosystem': 10, 'their': 10, 'weather': 10, 'USFS': 10, 'T': 10, 'F': 10, 'would': 10, 'Biomass': 10, 'D': 10, 'approach': 9, 'USA': 9, 'In': 9, 'an': 9, 'western': 9, 'other': 9, 'Forest': 9, 'over': 9, '2008': 9, 'Luce': 9, 'EFBR': 9, 'range': 9, 'regime': 9, 'years': 9, 'response': 9, 'Stream': 9, 'included': 9, 'flow': 9, 'or': 9, 'MA': 9, 'simulation': 8, 'ecosystems': 8, 'may': 8, 'local': 8, 'associated': 8, 'could': 8, 'because': 8, 'affected': 8, 'will': 8, 'this': 8, 'streamflow': 8, 'increased': 8, 'river': 8, 'dynamics': 8, 'under': 8, '2000': 8, 'fish': 8, 'B': 8, 'subwatershed': 8, 'variables': 8, 'simulated': 8, 'dynamic': 8, 'potential': 8, 'predictor': 8, 'predictors': 8, 'maximum': 8, '5': 8, 'greatest': 8, 'K': 8, 'Rocky': 7, 'Keane': 7, 'landscapes': 7, 'these': 7, 'its': 7, 'than': 7, 'network': 7, 'strategies': 7, 'global': 7, 'e.g.': 7, 'evaluate': 7, 'data': 7, 'Our': 7, 'habitat': 7, 'burn': 7, 'size': 7, 'ð': 7, 'average': 7, 'factors': 7, 'levels': 7, 'scenario': 7, 'Pacific': 7, 'Mote': 7, 'top': 7, 'Table': 7, 'Fish': 7, 'M': 7, 'C': 7, 'Hydrol': 7, 'Mountain': 6, '7': 6, 'linked': 6, 'spatially': 6, 'regression': 6, 'such': 6, 'responses': 6, 'available': 6, 'Global': 6, '2001': 6, 'This': 6, 'Moritz': 6, 'large': 6, 'temper-': 6, 'when': 6, 'characteristics': 6, 'mountain': 6, 'influenced': 6, 'study': 6, 'between': 6, 'measures': 6, 'influences': 6, 'disturbance': 6, 'based': 6, 'assessment': 6, 'H': 6, 'values': 6, 'treatments': 6, 'AveWMT': 6, 'interactions': 6, 'DJ': 6, 'Clim': 6, 'P': 6, 'significant': 5, 'well': 5, 'explicit': 5, 'predicted': 5, 'impacts': 5, 'larger': 5, 'finer': 5, 'sensitive': 5, 'while': 5, 'US': 5, 'Service': 5, 'Station': 5, 'MT': 5, 'University': 5, 'mean': 5, 'snow': 5, 'changing': 5, 'Dunham': 5, 'activity': 5, 'has': 5, 'important': 5, 'simulate': 5, 'Bitterroot': 5, 'River': 5, 'lower': 5, 'recent': 5, 'ha': 5, 'hydrologic': 5, 'sites': 5, 'conducted': 5, 'elevation': 5, 'Þ': 5, 'did': 5, 'considered': 5, '3': 5, 'Northwest': 5, 'first': 5, 'two-way': 5, 'frequency': 5, 'covariates': 5, 'after': 5, 'similar': 5, 'compared': 5, '6': 5, 'minor': 5, '0.0001': 5, 'Johnson': 5, 'estimated': 5, 'Collins': 5, 'Rieman': 5, 'populations': 5, 'GCM': 5, 'Krawchuk': 5, 'JT': 5, 'Int': 5, 'Washington': 5, 'Chang': 5, 'E': 5, 'wildfires': 4, 'watershed': 4, 'Young': 4, 'hydrology': 4, 'cause': 4, 'broader': 4, 'how': 4, 'U.S.': 4, 'account': 4, '90': 4, 'land': 4, 'limited': 4, 'short-term': 4, 'aquatic': 4, 'broad': 4, 'Research': 4, 'Sciences': 4, 'due': 4, 'Webb': 4, 'century': 4, 'Mohseni': 4, 'van': 4, 'through': 4, 'heat': 4, 'surface': 4, 'timing': 4, 'shifts': 4, 'snowpack': 4, 'reduced': 4, 'areas': 4, 'have': 4, 'depending': 4, 'research': 4, 'ature': 4, 'can': 4, 'To': 4, 'forest': 4, 'mainly': 4, 'high': 4, 'record': 4, 'cm': 4, 'Arno': 4, 'occur': 4, 'native': 4, 'trout': 4, '1995': 4, 'one': 4, 'assessed': 4, 'climatic': 4, 'Littell': 4, 'process': 4, 'summarized': 4, 'describing': 4, 'channel': 4, 'slope': 4, 'since': 4, 'multiple': 4, '1999': 4, 'þ': 4, 'canopy': 4, 'An': 4, 'accounted': 4, 'complex': 4, 'statistical': 4, 'among': 4, 'design': 4, 'HadCM3': 4, 'then': 4, 'For': 4, 'As': 4, 'level': 4, 'third': 4, 'GLMM': 4, 'per': 4, 'replicates': 4, 'comparing': 4, 'sensitivity': 4, 'value': 4, 'different': 4, 'became': 4, 'slight': 4, 'following': 4, 'same': 4, 'estimates': 4, 'intensive': 4, 'uncertainty': 4, 'GCMs': 4, 'Abatzoglou': 4, 'forests': 4, 'Ecol': 4, 'Manag': 4, 'HG': 4, 'G': 4, 'DR': 4, 'CH': 4, 'Res': 4, 'Wildland': 4, 'Process': 4, 'Am': 4, 'Sci': 4, 'Geophys': 4, 'Holsinger': 3, 'Eby': 3, 'Springer': 3, 'vegetative': 3, 'especially': 3, 'rapid': 3, 'importance': 3, 'empirical': 3, 'equation': 3, 'explore': 3, 'forested': 3, 'reduction': 3, 'Results': 3, 'much': 3, 'Similarly': 3, '’': 3, 's': 3, 'solutions': 3, 'impact': 3, 'Laboratory': 3, 'Missoula': 3, 'Nobilis': 3, 'Mantua': 3, 'next': 3, 'Changes': 3, 'runoff': 3, 'Hidalgo': 3, 'Barnett': 3, 'Moore': 3, 'along': 3, 'Dwire': 3, 'concomitant': 3, 'amount': 3, 'context': 3, 'Hall': 3, 'Lombardozzi': 3, 'Mahlum': 3, 'Minshall': 3, '1997': 3, 'Rhoades': 3, 'Sestrich': 3, 'species': 3, 'monitoring': 3, 'elevations': 3, 'm': 3, 'extensive': 3, 'frequencies': 3, 'including': 3, 'major': 3, 'perimeter': 3, 'evaluated': 3, 'Model': 3, 'about': 3, 'Cushman': 3, 'mechanistic': 3, 'individual': 3, 'present': 3, 'State': 3, 'during': 3, 'period': 3, 'loss': 3, 'field': 3, 'humidity': 3, 'soil': 3, 'discharge': 3, 'often': 3, 'it': 3, 'linear': 3, 'Stefan': 3, 'CA': 3, 'contributing': 3, 'results': 3, 'approaches': 3, 'emissions': 3, 'Nakicenovic': 3, 'National': 3, 'region': 3, 'offsets': 3, 'increase': 3, 'no': 3, 'intermediate': 3, 'strategy': 3, 'extreme': 3, 'mixed': 3, 'biomass': 3, 'repeated': 3, 'radial': 3, 'comparisons': 3, 'Finally': 3, 'incident': 3, 'perimeters': 3, 'burns': 3, 'weekly': 3, 'Type': 3, 'III': 3, 'tests': 3, 'fixed': 3, 'whereas': 3, 'periods': 3, 'post-fire': 3, 'analyses': 3, 'no-management': 3, 'basin-wide': 3, 'significantly': 3, 'decreased': 3, 'higher': 3, 'needed': 3, 'alter': 3, 'being': 3, 'highest': 3, 'having': 3, 'upward': 3, 'trend': 3, 'increasing': 3, 'median': 3, 'relatively': 3, '128': 3, '0.02': 3, '188': 3, 'Percent': 3, 'role': 3, 'annual': 3, 'severities': 3, 'sediment': 3, 'Poole': 3, 'Berman': 3, 'key': 3, 'given': 3, 'found': 3, 'studies': 3, 'long': 3, 'biophysical': 3, 'Stewart': 3, 'CMIP5': 3, 'predict': 3, 'Brown': 3, 'bias': 3, 'CNRM-CM5': 3, 'ecological': 3, 'contributions': 3, 'Proceedings': 3, 'pp': 3, 'SF': 3, 'eds': 3, 'RMRS': 3, 'Cayan': 3, 'Dettinger': 3, 'MD': 3, 'United': 3, 'States': 3, 'Science': 3, 'p': 3, 'distribution': 3, 'Effects': 3, 'I': 3, 'report': 3, 'salmonid': 3, 'GW': 3, 'Bull': 3, 'Trout': 3, 'PW': 3, 'L': 3, 'Lisa': 2, 'E.': 2, 'J.': 2, 'K.': 2, 'online': 2, 'March': 2, 'except': 2, 'globally': 2, 'might': 2, 'mitigating': 2, 'These': 2, 'patterns': 2, 'typically': 2, 'subset': 2, 'However': 2, 'Although': 2, 'continue': 2, 'managers': 2, 'systems': 2, 'developing': 2, 'restoration': 2, 'supplementary': 2, 'material': 2, 'L.': 2, 'Boise': 2, 'Aquatic': 2, 'Forestry': 2, 'Schneider': 2, 'Simon': 2, 'Ficklin': 2, 'Vliet': 2, 'circulation': 2, 'Bates': 2, 'Houghton': 2, 'Gunawardhana': 2, 'Kazama': 2, 'earlier': 2, 'snowmelt': 2, 'Knowles': 2, '2006': 2, 'orographic': 2, 'enhancement': 2, 'Leach': 2, 'Amaranthus': 2, '1989': 2, 'Kauffman': 2, 'adapt': 2, 'drought': 2, 'stress': 2, 'Allen': 2, 'particular': 2, 'substantial': 2, 'America': 2, 'central': 2, 'northern': 2, 'Kloster': 2, 'some': 2, 'apparent': 2, 'offset': 2, 'process-based': 2, 'developed': 2, 'assess': 2, 'atures': 2, 'variety': 2, 'Study': 2, 'East': 2, 'Fork': 2, 'snowmelt-dominated': 2, 'ponderosa': 2, 'pine': 2, 'Pinus': 2, '4,000': 2, 'averages': 2, 'tempera-': 2, 'mixed-severity': 2, 'short': 2, 'intervals': 2, 'intensity': 2, '1976': 2, 'westslope': 2, 'cutthroat': 2, 'bull': 2, 'MBTSG': 2, 'subwatersheds': 2, 'networks': 2, 'examples': 2, 'red': 2, 'Turner': 2, 'tree': 2, 'succession': 2, 'described': 2, 'brief': 2, 'validation': 2, 'distributed': 2, 'summer': 2, 'into': 2, 'highly': 2, 'shading': 2, 'combination': 2, 'topographic': 2, 'corresponding': 2, 'output': 2, 'evapotranspiration': 2, 'drainage': 2, 'they': 2, 'montane': 2, 'Sloat': 2, '2005': 2, 'simultaneous': 2, 'relationship': 2, 'function': 2, 'final': 2, 'SR': 2, 'Elv': 2, 'Slp': 2, 'reach': 2, 'term': 2, 'resulting': 2, 'variability': 2, '30-m': 2, 'autocorrelation': 2, 'Simulation': 2, 'factorial': 2, 'Thornton': 2, 'Running': 2, 'rates': 2, 'adjustments': 2, 'Intergovernmental': 2, 'Panel': 2, 'Report': 2, 'A2/B2': 2, 'multiplier': 2, 'total': 2, 'streamflows': 2, 'expected': 2, 'Snover': 2, 'types': 2, 'represented': 2, 'without': 2, 'allowing': 2, 'ignited': 2, 'Finney': 2, 'long-term': 2, 'events': 2, 'generalized': 2, 'tested': 2, 'differences': 2, 'kg': 2, 'm−2': 2, 'proxy': 2, 'Keeley': 2, 'number': 2, 'main': 2, 'n≈4,000': 2, 'accounting': 2, 'correlation': 2, 'smoother': 2, 'McCarter': 2, 'Burris': 2, 'ANOVA': 2, 'n=10': 2, 'interplay': 2, '–': 2, 'appropriate': 2, 'Burnham': 2, 'Anderson': 2, '1998': 2, 'possible': 2, 'likely': 2, 'indicated': 2, 'i.e.': 2, 'analysis': 2, 'broadest': 2, 'finest': 2, 'isolated': 2, 'input': 2, 'frequent': 2, 'indicating': 2, 'both': 2, 'order': 2, 'magnitude': 2, 'nominal': 2, 'trends': 2, 'proportions': 2, 'F-values': 2, '3.46': 2, '3.85': 2, 'respectively': 2, '0.3': 2, '0.5': 2, 'again': 2, '4.13': 2, '5.59': 2, 'towards': 2, 'greater': 2, 'driver': 2, 'factor': 2, '23': 2, '0.04': 2, '0.99': 2, '0.09': 2, '0.03': 2, '1.14': 2, '5,137': 2, 'ΔAveMWT': 2, '0.80': 2, '0.77': 2, 'related': 2, 'manage-': 2, 'ment': 2, 'doubling': 2, 'decreasing': 2, 'induced': 2, 'dominant': 2, 'minimal': 2, 'b': 2, 'abbreviations': 2, 'basis': 2, 'reduce': 2, 'affecting': 2, 'Jones': 2, 'up': 2, 'yet': 2, 'observation': 2, 'similarly': 2, 'attributable': 2, 'so-': 2, 'lar': 2, 'high-severity': 2, 'efforts': 2, 'low': 2, 'us': 2, 'fully': 2, 'minimally': 2, 'extent': 2, 'ed': 2, 'benefits': 2, 'resilient': 2, 'habitats': 2, 'critical': 2, 'planning': 2, 'working': 2, 'exclusion': 2, 'e.g': 2, 'however': 2, 'accumulation': 2, 'Diffenbaugh': 2, 'Future': 2, 'work': 2, 'flows': 2, 'Modeling': 2, 'aspects': 2, 'capturing': 2, 'efficiency': 2, 'challenging': 2, 'computer': 2, 'contained': 2, 'improve': 2, 'use': 2, 'Cristea': 2, 'Burges': 2, 'measurements': 2, 'enabled': 2, 'issues': 2, 'downscaled': 2, 'Rupp': 2, 'year−1': 2, 'expect': 2, 'comparable': 2, 'simulating': 2, 'least': 2, 'improved': 2, 'selection': 2, 'knowledge': 2, 'watersheds': 2, 'Nonetheless': 2, 'moisture': 2, 'vary': 2, 'estimating': 2, 'should': 2, 'conservation': 2, 'Joint': 2, 'thank': 2, 'assistance': 2, 'Clancy': 2, 'Wildlife': 2, 'Parks': 2, 'Jakober': 2, 'AK': 2, 'Range': 2, 'Experiment': 2, 'Paper': 2, 'RE': 2, 'Mountains': 2, 'TP': 2, 'Pierce': 2, 'DW': 2, 'Bonfils': 2, 'Santer': 2, 'BD': 2, 'Das': 2, 'Bala': 2, 'Wood': 2, 'AW': 2, 'Nozawa': 2, 'Mirin': 2, 'AA': 2, 'IPCC': 2, 'New': 2, 'York': 2, 'SL': 2, 'current': 2, 'implications': 2, 'McKenzie': 2, 'Nat': 2, 'JB': 2, 'BE': 2, 'DL': 2, 'IT': 2, 'Maurer': 2, 'Water': 2, 'SJ': 2, 'PJ': 2, 'DE': 2, 'Peterson': 2, 'Horan': 2, 'Chandler': 2, 'Appl': 2, 'northwest': 2, 'fishes': 2, 'observations': 2, 'JA': 2, 'Can': 2, 'Aquat': 2, 'Fort': 2, 'Lawrence': 2, 'Trends': 2, 'Parisien': 2, 'Van': 2, 'Dorn': 2, 'Hayhoe': 2, 'RD': 2, 'Earth': 2, 'JS': 2, 'CG': 2, 'Ecosphere': 2, 'Holden': 2, 'Z': 2, 'MK': 2, 'Basin': 2, 'O': 2, 'Restoration': 2, 'Team': 2, 'Lett': 2, 'Trans': 2, 'Cambridge': 2, 'Environ': 2, 'MR': 2, 'Influence': 2, 'BW': 2, 'Relative': 1, 'Robert': 1, 'Daniel': 1, 'Michael': 1, 'Received': 1, '26': 1, 'August': 1, '/Accepted': 1, '16': 1, 'February': 1, '/Published': 1, 'Science+Business': 1, 'Media': 1, 'Dordrecht': 1, 'Abstract': 1, 'Freshwater': 1, 'direct': 1, 'indirect': 1, 'near-stream': 1, 'fire-prone': 1, 'understood': 1, 'partially': 1, 'mountainous': 1, 'understand': 1, 'roles': 1, 'actions': 1, 'play': 1, 'indicate': 1, 'proportion': 1, 'prevalence': 1, 'negligible': 1, 'emerged': 1, 'need': 1, 'find': 1, 'cope': 1, 'involves': 1, 'adapting': 1, 'DOI': 1, '10.1007/s10584-014-1092-5': 1, 'Electronic': 1, 'version': 1, 'article': 1, 'doi:10.1007/s10584-014-1092-5': 1, 'contains': 1, 'authorized': 1, 'users': 1, 'R.': 1, 'e-mail': 1, 'lisamholsinger': 1, 'fs.fed.us': 1, 'D.': 1, 'ID': 1, 'College': 1, 'Conservation': 1, 'M.': 1, 'Introduction': 1, 'project': 1, '1.1': 1, '6.4': 1, 'environments': 1, 'sensible': 1, 'transfer': 1, 'long-wave': 1, 'atmospheric': 1, 'ground': 1, 'heating': 1, 'precip-': 1, 'itation': 1, 'rain': 1, 'diminished': 1, 'seasonal': 1, 'al.': 1, 'press': 1, 'indirectly': 1, 'provides': 1, 'shade': 1, 'Such': 1, 'alterations': 1, 'occurring': 1, 'terrestrial': 1, 'Fire-prone': 1, 'anticipated': 1, 'experience': 1, 'Mediterranean': 1, 'Australia': 1, 'South': 1, 'Asia': 1, 'Africa': 1, 'Wildfires': 1, 'dramatic': 1, 'documented': 1, 'site': 1, '2.0': 1, 'varies': 1, 'Less': 1, 'focused': 1, 'wildfire-induced': 1, 'evidence': 1, 'suggests': 1, 'smaller': 1, 'viewed': 1, 'broadly': 1, 'Resolving': 1, 'discrepancy': 1, 'programs': 1, 'sometimes': 1, 'proposed': 1, 'expensive': 1, 'implement': 1, 'Here': 1, 'local-': 1, 'network-scales': 1, 'accomplish': 1, 'goal': 1, 'spatially-explicit': 1, 'Outputs': 1, 'system': 1, 'synergistic': 1, 'effectiveness': 1, 'reducing': 1, 'Methods': 1, '2.1': 1, '105,487-ha': 1, '1,225–2,887': 1, 'west-central': 1, '192': 1, '80': 1, 'dominated': 1, 'Douglas-fir': 1, 'Pseudotsuga': 1, 'menziesii': 1, 'lodgepole': 1, 'contorta': 1, 'var': 1, 'latifolia': 1, 'subalpine': 1, 'fir': 1, 'Abies': 1, 'lasiocarpa': 1, 'Engelmann': 1, 'spruce': 1, 'Picea': 1, 'engelmanii': 1, 'experienced': 1, '55,000': 1, '1956–present': 1, '1993–present': 1, 'datasets': 1, 'Annual': 1, '41': 1, '26–57': 1, 'falling': 1, 'November': 1, 'Flows': 1, 'peak': 1, 'May': 1, 'June': 1, 'tures': 1, 'melt': 1, 'primarily': 1, 'low-to-medium': 1, '11–30': 1, 'steep': 1, 'terrain': 1, 'lower-subalpine': 1, 'north-': 1, 'facing': 1, 'slopes': 1, 'stand-replacing': 1, 'inhabit': 1, 'Oncoryhnchus': 1, 'clarkii': 1, 'lewisi': 1, 'slimy': 1, 'sculpin': 1, 'Cottus': 1, 'cognatus': 1, 'whitefish': 1, 'Prosopium': 1, 'williamsoni': 1, 'longnose': 1, 'suckers': 1, 'Catostomus': 1, 'catostomus': 1, 'core': 1, 'conser-': 1, 'vation': 1, 'Location': 1, 'Inserts': 1, 'right': 1, 'characterized': 1, 'upland': 1, '193': 1, '2.2': 1, 'description': 1, '2.2.1': 1, 'Spatially': 1, 'address': 1, 'questions': 1, 'climate-induced': 1, 'pattern': 1, 'integrating': 1, 'biogeochemical': 1, 'cycles': 1, 'assimilates': 1, 'stochastically': 1, 'ignition': 1, 'spread': 1, 'components': 1, 'been': 1, 'synopsis': 1, 'inputs': 1, 'calibration': 1, '2.2.2': 1, 'assembled': 1, '9-year': 1, 'database': 1, '2001–2009': 1, '116': 1, 'widely': 1, 'throughout': 1, 'collected': 1, 'June–September': 1, 'warmest': 1, 'thermally': 1, 'stressful': 1, 'thermograph': 1, 'readings': 1, 'taken': 1, '0.5-': 1, '2.0-h': 1, 'maxima—a': 1, 'metric': 1, 'gains': 1, 'Predictors': 1, 'FireBGCv2-derived': 1, 'dataset': 1, 'suite': 1, 'leaf': 1, 'index': 1, 'leaves': 1, 'Topographic': 1, 'facilitated': 1, 'topo-': 1, 'graphic': 1, 'treated': 1, 'colder': 1, 'nonlinearities': 1, 'initially': 1, 'fit': 1, 'stepwise': 1, 'procedures': 1, 'exclude': 1, 'non-significant': 1, 'produce': 1, 'parsimonious': 1, 'wherein': 1, 'statistically': 1, 'α': 1, '0.01': 1, 'features': 1, 'follows': 1, 'Daily': 1, '¼': 1, '13:9': 1, '0:527': 1, 'Þ−0:255': 1, '0:0189': 1, '\\x02': 1, '0:00574': 1, 'Þ−0:00703': 1, '−5:65': 1, '0:0000000016': 1, 'm3•sec': 1, '−1': 1, 'penetrating': 1, 'watts•m−2': 1, 'drop': 1, 'length': 1, 'm2': 1, 'interaction': 1, '194': 1, 'fluctuations': 1, 'sensitivities': 1, 'portions': 1, 'good': 1, 'predictive': 1, 'accuracy': 1, 'rs=0.84': 1, 'MAE=1.70': 1, 'RMSE=2.21': 1, 'reasonably': 1, 'accurate': 1, 'every': 1, 'pixel': 1, 'step': 1, 'attempt': 1, 'computational': 1, 'requirements': 1, 'precluded': 1, 'linkage': 1, '2.3': 1, 'experiment': 1, '3×3': 1, 'Three': 1, 'hot': 1, 'dry': 1, 'warm': 1, 'wet': 1, 'represent': 1, 'greenhouse': 1, 'gas': 1, 'built': 1, '55-year': 1, '1956–2010': 1, 'Weather': 1, 'station': 1, 'Sula': 1, 'meteorological': 1, 'extrapolate': 1, 'minimum': 1, 'correcting': 1, 'aspect': 1, 'lapse': 1, 'supplied': 1, 'CO2': 1, '1950–1999': 1, 'base': 1, 'Hadley': 1, 'Centre': 1, 'UK': 1, 'general': 1, 'grid': 1, 'points': 1, 'Special': 1, 'Emission': 1, 'Scenarios': 1, 'Temperature': 1, 'incrementally': 1, 'season': 1, 'differential': 1, '2.5–6.7': 1, '0.67–1.11': 1, '1.0–2.1': 1, '0.99–1.24': 1, '100': 1, 'held': 1, 'those': 1, '300': 1, '400': 1, 'declines': 1, 'evapotranspira-': 1, 'tion': 1, 'phase': 1, 'Predictions': 1, 'downward': 1, 'incorporated': 1, 'experiments': 1, 'hence': 1, 'reflected': 1, 'alone': 1, 'modeled': 1, 'policy': 1, 'baseline': 1, 'condition': 1, 'ignitions': 1, 'implementing': 1, 'prescribed': 1, 'burning': 1, 'thinning': 1, 'effective': 1, 'moderating': 1, 'behavior': 1, 'contemporary': 1, 'extinguished': 1, 'ran': 1, 'steps': 1, 'replicated': 1, 'ten': 1, 'times': 1, 'create': 1, 'series': 1, 'captured': 1, 'signal': 1, '195': 1, '2.4': 1, 'Analyses': 1, '2.4.1': 1, 'ANOVAs': 1, '•': 1, 'SAS': 1, 'GLIMMIX': 1, 'procedure': 1, 'analyze': 1, 'replicate': 1, 'therefore': 1, 'fewer': 1, 'samples': 1, 'Multiple': 1, 'examined': 1, '2.4.2': 1, 'inside': 1, 'inserts': 1, '7-day': 1, 'running': 1, 'calculated': 1, 'weighted': 1, 'means': 1, 'pixels': 1, 'Akaike': 1, 'Information': 1, 'Criterion': 1, 'AIC': 1, 'scores': 1, 'identify': 1, 'fixed-effect': 1, 'priori': 1, 'candidate': 1, 'list': 1, 'correlations': 1, 'variable': 1, 'fire-perimeter': 1, 'riparian-burn': 1, 'before': 1, 'frame': 1, 'largest': 1, 'narrowed': 1, 'scope': 1, 'strategies–no': 1, 'suppression–eliminating': 1, 'AveWMTwith': 1, 'drivers': 1, 'holding': 1, 'averaged': 1, 'changed': 1, '196': 1, 'took': 1, 'approach—holding': 1, 'pre-fire': 1, 'repeating': 1, '3.1': 1, 'warmed': 1, '2a–c': 1, 'Suppression': 1, 'ap-': 1, 'proaches': 1, 'Last': 1, 'varied': 1, 'lowest': 1, '3.2': 1, 'F-value': 1, '5.0': 1, '1.7': 1, '2d': 1, 'see': 1, 'summaries': 1, 'Both': 1, 'Increasing': 1, 'caused': 1, 'cooling': 1, 'produced': 1, 'covariate': 1, 'strongest': 1, 'very': 1, '0.2': 1, 'nominally': 1, 'trended': 1, 'slightly': 1, 'severity–at': 1, 'addition': 1, '0.4': 1, '197': 1, '3a': 1, 'Solar': 1, 'less': 1, 'exception': 1, '12': 1, 'Within': 1, '71': 1, 'followed': 1, '3b': 1, 'Δ': 1, 'prior': 1, 'ΔAveWMT': 1, 'Effect': 1, 'Degrees': 1, 'freedom': 1, 'p-value': 1, 'Numerator': 1, 'denominator': 1, '100.72': 1, '134.48': 1, '3.00': 1, '89.34': 1, '0.97': 1, '0.41': 1, 'AveMWT': 1, '687.94': 1, '527': 1, '2.39': 1, '520': 1, '385': 1, '14.55': 1, '5,115': 1, '3.14': 1, '5,247': 1, '5,204': 1, '0.32': 1, '11.27': 1, '5,011': 1, '0.0008': 1, '6.59': 1, '0.0014': 1, '0.94': 1, '0.39': 1, '696': 1, '1.03': 1, '857': 1, '0.31': 1, '0.22': 1, '667': 1, '894': 1, '0.05': 1, '1.35': 1, '702': 1, '0.26': 1, '0.06': 1, '856': 1, '475': 1, '565': 1, '0.29': 1, '0.27': 1, '311': 1, '855': 1, '1.93': 1, '798': 1, '0.15': 1, '786': 1, 'Area': 1, '0.12': 1, '940': 1, '0.73': 1, '198': 1, 'Discussion': 1, 'suggest': 1, 'rise': 1, 'systemic': 1, 'Fires': 1, 'essentially': 1, 'clearly': 1, 'altered': 1, 'stream-side': 1, 'Yet': 1, 'regardless': 1, 'overarching': 1, 'Specifically': 1, 'played': 1, 'influencing': 1, 'component': 1, 'part': 1, 'Mean': 1, 'standard': 1, 'errors': 1, 'c': 1, 'd': 1, 'boxplots': 1, 'nine': 1, 'climate/fire': 1, 'symbolized': 1, 'x-axis': 1, 'combining': 1, '199': 1, 'attributed': 1, 'if': 1, 'annually': 1, 'percentage': 1, 'enhanced': 1, 'any': 1, 'point': 1, 'Moreover': 1, 'indicative': 1, 'shift': 1, 'historically': 1, 'low-severity': 1, 'corridor': 1, 'dampen': 1, 'remained': 1, 'controlling': 1, 'showed': 1, 'warmer': 1, 'That': 1, 'disturbances': 1, 'catchments': 1, 'basins': 1, 'budgets': 1, 'morphology': 1, 'ranging': 1, 'influential': 1, 'five-fold': 1, 'emphasizing': 1, 'field-based': 1, 'Percentage': 1, 'ba-': 1, 'sin': 1, 'ture': 1, '200': 1, 'nearby': 1, 'Idaho': 1, '0.65': 1, 'Larger': 1, 'emphasis': 1, 'collection': 1, 'oftentimes': 1, 'occurred': 1, 'immediately': 1, 'Through': 1, 'incorporating': 1, '55': 1, 'frames': 1, 'covering': 1, '105,000': 1, 'spectrum': 1, 'interacting': 1, 'modeled–with': 1, '3,000': 1, '40,000': 1, 'severities–allowing': 1, 'Since': 1, 'surprising': 1, 'little': 1, 'in-': 1, 'strongly': 1, 'targeting': 1, 'perhaps': 1, '20': 1, 'marginally': 1, 'imposing': 1, 'modify': 1, 'noticeable': 1, 'suspect': 1, 'best': 1, 'emphasize': 1, 'implement-': 1, 'site-specific': 1, 'strategic': 1, 'facilitate': 1, 'maintain': 1, 'refuges': 1, 'discuss': 1, 'focusing': 1, 'locations': 1, 'sufficiently': 1, 'distant': 1, 'spawning': 1, 'rearing': 1, 'cold-water': 1, 'type': 1, 'integrated': 1, 'careful': 1, 'conserving': 1, 'face': 1, 'stressors': 1, 'minimize': 1, 'history': 1, 'Considerable': 1, 'concern': 1, 'exists': 1, 'declining': 1, 'snowmelt-derived': 1, '40': 1, 'decline': 1, 'temperature—consistent': 1, 'findings': 1, 'date': 1, 'stronger': 1, 'detail': 1, 'assumed': 1, 'historic': 1, 'projections': 1, 'Phase': 1, 'Coupled': 1, 'Intercomparison': 1, 'Project': 1, 'sharp': 1, 'extremely': 1, 'spring': 1, 'North': 1, 'integrates': 1, 'ensembles': 1, 'structures': 1, 'better': 1, 'po-': 1, 'tential': 1, 'hydrographs': 1, 'stresses': 1, '201': 1, 'necessitates': 1, 'simplification': 1, 'real-world': 1, 'several': 1, 'example': 1, 'sake': 1, 'incorporate': 1, 'downstream': 1, 'instead': 1, 'independently': 1, 'cell': 1, 'Including': 1, 'upstream': 1, 'required': 1, 'charac-': 1, 'terizing': 1, 'hydraulic': 1, 'retention': 1, 'contact': 1, 'energy': 1, 'exchanges': 1, '—a': 1, 'task': 1, 'demanding': 1, 'vastly': 1, 'memory': 1, 'build': 1, 'unevenly': 1, 'high-resolution': 1, '1×1': 1, 'mapping': 1, 'Also': 1, 'simplistic': 1, 'computationally': 1, 'efficient': 1, 'Ongoing': 1, 'advancements': 1, 'computing': 1, 'resolve': 1, 'many': 1, 'greatly': 1, 'subsequent': 1, 'versions': 1, 'projection': 1, 'i.e': 1, 'perform': 1, '14': 1, 'now': 1, 'exist': 1, 'ranked': 1, 'performance': 1, 'reported': 1, 'scoring': 1, 'rank': 1, 'evaluation': 1, 'method': 1, 'negative': 1, '~−2.5': 1, 'dissimilar': 1, 'ranking': 1, '~−1.5': 1, 'positive': 1, '~15': 1, 'somewhat': 1, '~30': 1, 'employed': 1, 'differentially': 1, 'strong': 1, 'remain': 1, 'biases': 1, 'direction': 1, 'reasonable': 1, 'Due': 1, 'demands': 1, 'capacity': 1, '10': 1, 'recommended': 1, 'trajectories': 1, 'balancing': 1, 'designs': 1, 'include': 1, 'performing': 1, 'Conclusions': 1, 'summarize': 1, 'governed': 1, 'variables–air': 1, 'flow–and': 1, 'directly': 1, 'Air': 1, 'mostly': 1, 'dictated': 1, 'Stream-level': 1, 'development': 1, 'topography': 1, '202': 1, 'making': 1, 'potentially': 1, 'relationships': 1, 'specifically': 1, 'application': 1, 'require': 1, 'refitting': 1, 'Northern': 1, 'productivity': 1, 'demonstrate': 1, 'pyrogeographical': 1, 'framework': 1, 'resources': 1, 'predictable': 1, 'temperate': 1, 'coniferous': 1, 'controlled': 1, 'Exploring': 1, 'mechanistic-based': 1, 'thereby': 1, 'numerous': 1, 'acting': 1, 'rising': 1, 'unexpected': 1, 'depicts': 1, 'outcome': 1, 'While': 1, 'highlights': 1, 'limitations': 1, 'activities': 1, 'mitigate': 1, 'spans': 1, 'expression': 1, 'result': 1, 'fuels': 1, 'successful': 1, 'protect': 1, 'valued': 1, 'Other': 1, 'coping': 1, 'help': 1, 'involve': 1, 'formulating': 1, 'improvement': 1, 'implemented': 1, 'continuity': 1, 'loading': 1, 'near-term': 1, 'carefully': 1, 'ensure': 1, 'high-quality': 1, 'Acknowledgments': 1, 'funded': 1, 'Program': 1, 'JFSP-09-1002-9': 1, 'Violet': 1, 'Holley': 1, 'Christie': 1, 'Lowney': 1, 'Aaron': 1, 'Sparks': 1, 'Signe': 1, 'Leirfallom': 1, 'Robin': 1, 'Silverstein': 1, 'Pamela': 1, 'Siknink': 1, 'Olga': 1, 'Helmy': 1, 'Chris': 1, 'Leslie': 1, 'Nyce': 1, 'Mike': 1, 'Mary': 1, 'Manning': 1, 'her': 1, 'sampling': 1, 'Ruth': 1, 'Wooding': 1, 'Melissa': 1, 'Wegner': 1, 'References': 1, 'TJ': 1, 'comparison': 1, 'downscaling': 1, 'methods': 1, 'suited': 1, 'applica-': 1, 'tions': 1, 'Climatol': 1, '32': 1, ':772–780': 1, 'CD': 1, 'Macalady': 1, 'Chenchouni': 1, 'Bachelet': 1, 'McDowell': 1, 'Vennetier': 1, 'Cobb': 1, 'overview': 1, 'heat-induced': 1, 'mortality': 1, 'reveals': 1, 'emerging': 1, 'risks': 1, '259': 1, ':660–684': 1, 'Jubas': 1, 'Arthur': 1, 'intense': 1, 'headwater': 1, 'Berg': 1, 'NH': 1, 'Symposium': 1, 'Watershed': 1, 'Management': 1, 'October': 1, '26–28': 1, '1988': 1, 'GTR': 1, 'PSW-109': 1, 'Southwest': 1, 'Berkeley': 1, '75–78': 1, '203': 1, 'Intermountain': 1, 'INT-187': 1, 'Parsons': 1, 'Mixed-severity': 1, 'consequences': 1, 'options': 1, 'Cole': 1, 'DN': 1, 'McCool': 1, 'Borrie': 1, 'WT': 1, 'Loughlin': 1, 'Wilderness': 1, 'science': 1, 'conference-volume': 1, 'wilderness': 1, 'threats': 1, 'RMRS-P-15-VOL-5': 1, 'Ogden': 1, '225–232': 1, 'Human-induced': 1, '319:1080–1083': 1, 'Kundzewicz': 1, 'ZW': 1, 'Wu': 1, 'Palutikof': 1, 'Technical': 1, 'Secretariat': 1, 'Geneva': 1, '210': 1, 'KP': 1, 'Inference': 1, 'practical': 1, 'information': 1, 'theoretic': 1, 'BM': 1, 'Stephens': 1, 'Moghaddas': 1, 'JJ': 1, 'Battles': 1, 'Challenges': 1, 'fire-excluded': 1, '108': 1, ':24–31': 1, 'located': 1, 'Wenatchee': 1, 'regional': 1, '102:493–520': 1, 'SA': 1, 'Wasserman': 1, 'TN': 1, 'McGarigal': 1, 'wildlife': 1, 'Miller': 1, 'Falk': 1, 'DA': 1, 'ecology': 1, 'Ecological': 1, 'vol': 1, '213': 1, '223–248': 1, 'NS': 1, 'Scherer': 1, 'Ashfaq': 1, 'MCB': 1, 'Response': 1, 'snow-dependent': 1, 'extremes': 1, 'continued': 1, '3:379–384': 1, 'Rosenberger': 1, 'AE': 1, 'Influences': 1, 'reorganization': 1, 'variation': 1, 'amphibians': 1, 'Ecosystems': 1, '10:335–346': 1, 'KA': 1, '178:61–74': 1, 'EP': 1, 'dissolved': 1, 'oxygen': 1, 'concentration': 1, 'Sierra': 1, 'Nevada': 1, 'California': 1, 'Resour': 1, '49:2765–2782': 1, 'Seli': 1, 'RC': 1, 'McHugh': 1, 'CW': 1, 'Ager': 1, 'Bahro': 1, 'Agee': 1, 'JK': 1, 'landscape-': 1, '16:712–727': 1, 'LN': 1, 'groundwater': 1, 'Sendai': 1, 'plain': 1, 'Japan': 1, '25:2665–2678': 1, 'Short-term': 1, 'Southern': 1, 'post-burn': 1, 'West': 1, '68:453–462': 1, 'Detection': 1, 'attribution': 1, '22:3838–3855': 1, 'Ding': 1, 'Y': 1, 'Griggs': 1, 'Noguer': 1, 'der': 1, 'Linden': 1, 'Xia': 1, 'Maskell': 1, 'scientific': 1, 'group': 1, 'intergovernmental': 1, 'panel': 1, 'Nagel': 1, 'EE': 1, 'Parkes': 1, 'GL': 1, '20:1350–1371': 1, 'Wollrab': 1, '1980–2009': 1, '113:499–524': 1, 'Hoef': 1, 'JV': 1, 'Wenger': 1, 'Falke': 1, 'Torgersen': 1, 'Sowder': 1, 'Steel': 1, 'EA': 1, 'Fortin': 1, 'M-J': 1, 'Jordan': 1, 'CE': 1, 'Ruesch': 1, 'AS': 1, 'Som': 1, 'Monestiez': 1, 'Applications': 1, 'WIREs': 1, '1.': 1, 'doi:10.1002/wat2.1023': 1, 'scaling': 1, '17': 1, '497–499': 1, 'SE': 1, 'harvest': 1, 'debris': 1, 'Cascades': 1, 'Oregon': 1, '47': 1, 'suppl': 1, ':30–39': 1, 'Loehman': 1, 'RA': 1, 'LM': 1, 'platform': 1, 'exploring': 1, 'JE': 1, 'review': 1, 'suggested': 1, 'usage': 1, '18:116–126': 1, '204': 1, 'Mahowald': 1, 'NM': 1, 'Randerson': 1, 'demography': 1, '21st': 1, 'CLM-CN': 1, 'Biogeosciences': 1, '8:9709–9746': 1, 'snowfall': 1, 'versus': 1, 'rainfall': 1, '19:4545–4559': 1, 'Constraints': 1, 'resource': 1, 'gradient': 1, 'Ecology': 1, '92': 1, ':121–132': 1, 'pyrogeography': 1, 'PLoS': 1, 'ONE': 1, 'e5201': 1, 'Winter': 1, 'rain-on-snow': 1, 'zone': 1, 'hillslope': 1, 'transient': 1, 'cover': 1, 'Syst': 1, '10:12951–13003': 1, 'Kerns': 1, 'BK': 1, 'Shaw': 1, 'Managing': 1, 'climate-driven': 1, 'inform': 1, 'adaptation': 1, '9': 1, ':102': 1, 'Morgan': 1, 'building': 1, 'RMRS-GTR-290': 1, '207': 1, 'ZA': 1, 'missing': 1, 'slower': 1, 'westerlies': 1, 'decrease': 1, '342': 1, '6164': 1, ':1360–1364': 1, 'SK': 1, 'LA': 1, '20:240–247': 1, 'Tohver': 1, 'Hamlet': 1, 'AF': 1, 'Impacts': 1, 'freshwater': 1, 'salmon': 1, 'McGuire': 1, 'Elsner': 1, 'Binder': 1, 'LW': 1, 'evaluating': 1, 'Center': 1, 'System': 1, 'Institute': 1, 'Atmosphere': 1, 'Oceans': 1, 'Seattle': 1, 'KS': 1, 'Accounting': 1, 'smoothers': 1, 'variable-rate': 1, 'prescriptions': 1, '10th': 1, 'International': 1, 'Conference': 1, 'Precision': 1, 'Agriculture': 1, 'Robinson': 1, 'Postfire': 1, 'lotic': 1, 'Yellowstone': 1, 'Park': 1, 'U.S.A.': 1, '54:2509–2525': 1, 'temperature/air': 1, 'physical': 1, 'interpretation': 1, '218:128–141': 1, 'Eaton': 1, 'JG': 1, 'Warming': 1, 'Potential': 1, 'Habitat': 1, 'U.S': 1, 'Streams': 1, '59:389–409': 1, 'status': 1, 'prepared': 1, 'Scientific': 1, 'Group': 1, 'Dept': 1, 'M-A': 1, 'Batllori': 1, 'Ganz': 1, 'disruptions': 1, ':49': 1, 'equivalent': 1, 'causes': 1, '30:1601': 1, 'Brekke': 1, 'Duffy': 1, 'Guidelines': 1, 'constructing': 1, 'EOS': 1, 'Union': 1, '92:257': 1, 'Alcamo': 1, 'Davis': 1, 'de': 1, 'Vries': 1, 'Fenhann': 1, 'Gaffin': 1, 'Gregory': 1, 'Grübler': 1, 'Yong': 1, 'Jung': 1, 'Kram': 1, 'Lebre': 1, 'La': 1, 'Rovere': 1, 'Michaelis': 1, 'Mori': 1, 'Morita': 1, 'Pepper': 1, 'W': 1, 'Pitcher': 1, 'Price': 1, 'Riahi': 1, 'Roehrl': 1, 'Rogner': 1, 'H-H': 1, 'Sankovski': 1, 'Schlesinger': 1, 'Shukla': 1, 'Smith': 1, 'Swart': 1, 'R': 1, 'Rooijen': 1, 'Victor': 1, 'Dadi': 1, 'special': 1, 'Press': 1, '599': 1, 'GC': 1, 'perspective': 1, 'instream': 1, 'natural': 1, 'mechanisms': 1, 'human-caused': 1, 'degradation': 1, '276:787–802': 1, 'CC': 1, 'Entwistle': 1, 'Butler': 1, 'streamwater': 1, 'chemistry': 1, 'Hayman': 1, 'Colorado': 1, '20:430–442': 1, 'Hessburt': 1, 'PF': 1, 'Dare': 1, 'Wildfire': 1, 'conflict': 1, 'opportunity': 1, 'convergent': 1, 'Bioscience': 1, '60:460–468': 1, 'Hegewisch': 1, 'KC': 1, 'Evaluation': 1, '20th': 1, 'Atmos': 1, '118': 1, '19': 1, ':10884–10906': 1, 'JH': 1, 'Space': 1, 'inland': 1, 'bodies': 1, 'show': 1, '1985': 1, '37': 1, '22': 1, 'L22405': 1, 'CM': 1, 'McMahon': 1, 'TE': 1, 'nonnative': 1, 'Western': 1, 'Soc': 1, '140:136–146': 1, '205': 1, 'Shepard': 1, 'BB': 1, 'White': 1, 'RG': 1, 'Carson': 1, 'growth': 1, 'Madison': 1, '25:225–237': 1, 'NJ': 1, 'Alexander': 1, 'Mcclure': 1, 'MM': 1, 'Nye': 1, 'Choosing': 1, 'climate-': 1, 'ecological-impact': 1, 'assessments': 1, 'decisions': 1, 'Conserv': 1, 'Biol': 1, '27': 1, '1147–1157': 1, 'regions': 1, '23:78–94': 1, 'PE': 1, 'SW': 1, 'algorithm': 1, 'Agric': 1, 'Meteorol': 1, '93:211–228': 1, 'MG': 1, 'Arthaud': 1, 'GJ': 1, 'Engstrom': 1, 'RT': 1, 'Hejl': 1, 'Liu': 1, 'Loeb': 1, 'McKelvey': 1, 'Usefulness': 1, 'population': 1, '5:12–16': 1, 'MTH': 1, 'Franssen': 1, 'WHP': 1, 'Yearsley': 1, 'JR': 1, 'Ludwig': 1, 'Haddeland': 1, 'Lettenmaier': 1, 'DP': 1, 'Kabat': 1, ':450–464': 1, 'Long-term': 1, 'hydrological': 1, '52:74–85': 1, 'Hannah': 1, 'DM': 1, 'LE': 1, 'Recent': 1, 'advances': 1, '22:902–918': 1, '206': 1})\n"
          ]
        }
      ]
    },
    {
      "cell_type": "code",
      "source": [
        "import nltk\n",
        "from nltk.tokenize import word_tokenize\n",
        "import string\n",
        "\n",
        "nltk.download('punkt_tab')"
      ],
      "metadata": {
        "colab": {
          "base_uri": "https://localhost:8080/"
        },
        "id": "UxBcwdijyQLP",
        "outputId": "b55c4b17-beb1-4efa-81fd-e86d710efe30"
      },
      "execution_count": 6,
      "outputs": [
        {
          "output_type": "stream",
          "name": "stderr",
          "text": [
            "[nltk_data] Downloading package punkt_tab to /root/nltk_data...\n",
            "[nltk_data]   Package punkt_tab is already up-to-date!\n"
          ]
        },
        {
          "output_type": "execute_result",
          "data": {
            "text/plain": [
              "True"
            ]
          },
          "metadata": {},
          "execution_count": 6
        }
      ]
    },
    {
      "cell_type": "code",
      "source": [
        "def tokenize_query(query):\n",
        "    tokens = word_tokenize(query.lower())  # lowercase + tokenize\n",
        "    tokens = [t for t in tokens if t not in string.punctuation]\n",
        "    return tokens\n",
        "\n",
        "tokenized_queries = [tokenize_query(query) for query in list(all_data.keys())]"
      ],
      "metadata": {
        "id": "DR7sudMCzI0l"
      },
      "execution_count": 7,
      "outputs": []
    },
    {
      "cell_type": "code",
      "source": [
        "print(len([doc['tokens'] for doc in list(all_data['Genetic engineering as treatment for genetic disorders'].values())]))"
      ],
      "metadata": {
        "colab": {
          "base_uri": "https://localhost:8080/"
        },
        "id": "2zAhKW0eznnn",
        "outputId": "3a792171-8095-48ed-d42a-c547b6811d39"
      },
      "execution_count": 8,
      "outputs": [
        {
          "output_type": "stream",
          "name": "stdout",
          "text": [
            "60\n"
          ]
        }
      ]
    },
    {
      "cell_type": "code",
      "source": [
        "from collections import Counter\n",
        "\n",
        "def counter_to_token_list(counter):\n",
        "    tokens = []\n",
        "    for token, count in counter.items():\n",
        "        tokens.extend([token] * count)\n",
        "    return tokens\n",
        "\n",
        "corpus = []\n",
        "for query, data in all_data.items():\n",
        "  corpus.extend([counter_to_token_list(tokens) for tokens in [doc['tokens'] for doc in list(data.values())]])\n",
        "\n",
        "print(len(corpus))"
      ],
      "metadata": {
        "colab": {
          "base_uri": "https://localhost:8080/"
        },
        "id": "jHcGDrB-0fGR",
        "outputId": "89bbbee7-05c1-4e8f-8778-15a198113ffe"
      },
      "execution_count": 9,
      "outputs": [
        {
          "output_type": "stream",
          "name": "stdout",
          "text": [
            "480\n"
          ]
        }
      ]
    },
    {
      "cell_type": "code",
      "execution_count": 10,
      "metadata": {
        "id": "pZkFt3Trn--Y"
      },
      "outputs": [],
      "source": [
        "from rank_bm25 import BM25Okapi\n",
        "\n",
        "# Initialize BM25 with your corpus\n",
        "bm25 = BM25Okapi(corpus)\n",
        "\n",
        "# Score documents for a query\n",
        "for query in tokenized_queries:\n",
        "    scores = bm25.get_scores(query)\n",
        "    ranked_doc_indices = sorted(range(len(scores)), key=lambda i: scores[i], reverse=True)\n",
        "    # Use these ranked indices as your baseline ranking\n"
      ]
    },
    {
      "cell_type": "code",
      "source": [
        "relevance_scores = []\n",
        "for query, data in all_data.items():\n",
        "  relevance_scores.append([val['relevance'] for val in list(data.values())])\n",
        "for i, score in enumerate(relevance_scores):\n",
        "  relevance_scores[i] = ([0] * (60 * i)) + relevance_scores[i] + ([0] * (60 * (len(tokenized_queries) - (i + 1))))"
      ],
      "metadata": {
        "id": "vIobayDb3a3l"
      },
      "execution_count": 11,
      "outputs": []
    },
    {
      "cell_type": "code",
      "source": [
        "from sklearn.metrics import average_precision_score\n",
        "import numpy as np\n",
        "\n",
        "def precision_at_k(true, pred, k):\n",
        "    true = np.array(true) > 0\n",
        "    pred = np.array(pred)[:k]\n",
        "    return np.sum(true[pred]) / k\n",
        "\n",
        "def recall_at_k(true, pred, k):\n",
        "    true = np.array(true) > 0\n",
        "    pred = np.array(pred)[:k]\n",
        "    return np.sum(true[pred]) / np.sum(true)\n",
        "\n",
        "def dcg(rels):\n",
        "    return sum(rel / np.log2(idx + 2) for idx, rel in enumerate(rels))\n",
        "\n",
        "def ndcg_at_k(true, pred, k):\n",
        "    true = np.array(true)\n",
        "    ideal = sorted(true, reverse=True)[:k]\n",
        "    pred_rels = true[pred[:k]]\n",
        "    return dcg(pred_rels) / (dcg(ideal) + 1e-8)\n",
        "\n",
        "\n",
        "# Evaluate each query\n",
        "for i, query in enumerate(tokenized_queries):\n",
        "    scores = bm25.get_scores(query)\n",
        "    ranked = np.argsort(scores)[::-1]  # descending\n",
        "    rels = relevance_scores[i]\n",
        "\n",
        "    print(f\"\\nQuery {i+1}: {list(map.keys())[i]}\")\n",
        "    # print(f\"Precision@30: {precision_at_k(rels, ranked, 30):.2f}\") <- left this out because they're all 1.00\n",
        "    print(f\"Recall@60:    {recall_at_k(rels, ranked, 60):.2f}\")\n",
        "    print(f\"NDCG@30:      {ndcg_at_k(rels, ranked, 30):.2f}\")\n",
        "    # print(f\"MAP:          {average_precision_score((np.array(rels) > 0).astype(int), scores):.2f}\") #<- these values are also really high"
      ],
      "metadata": {
        "colab": {
          "base_uri": "https://localhost:8080/"
        },
        "id": "SQvMD_Hn9QID",
        "outputId": "9818c7b7-df4f-437d-eba8-1f76f7082353"
      },
      "execution_count": 26,
      "outputs": [
        {
          "output_type": "stream",
          "name": "stdout",
          "text": [
            "\n",
            "Query 1: Effects of smoking on lung cancer\n",
            "Recall@60:    0.95\n",
            "NDCG@30:      0.81\n",
            "\n",
            "Query 2: Ethical implications of AI\n",
            "Recall@60:    0.95\n",
            "NDCG@30:      0.70\n",
            "\n",
            "Query 3: Climate change and wildfires\n",
            "Recall@60:    0.93\n",
            "NDCG@30:      0.83\n",
            "\n",
            "Query 4: Effects of Fasting on Metabolic Health\n",
            "Recall@60:    0.93\n",
            "NDCG@30:      0.84\n",
            "\n",
            "Query 5: Psychological effects of social media on children and teens\n",
            "Recall@60:    0.83\n",
            "NDCG@30:      0.75\n",
            "\n",
            "Query 6: Impacts of urbanization on wildlife biodiversity\n",
            "Recall@60:    0.98\n",
            "NDCG@30:      0.84\n",
            "\n",
            "Query 7: Battery technology advancements for electric vehicles\n",
            "Recall@60:    1.00\n",
            "NDCG@30:      0.85\n",
            "\n",
            "Query 8: Genetic engineering as treatment for genetic disorders\n",
            "Recall@60:    0.88\n",
            "NDCG@30:      0.80\n"
          ]
        }
      ]
    }
  ]
}