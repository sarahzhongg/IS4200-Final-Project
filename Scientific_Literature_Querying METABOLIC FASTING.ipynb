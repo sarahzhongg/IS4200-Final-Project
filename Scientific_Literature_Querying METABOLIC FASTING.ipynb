{
  "cells": [
    {
      "cell_type": "code",
      "execution_count": 1,
      "metadata": {
        "colab": {
          "base_uri": "https://localhost:8080/"
        },
        "id": "lJvyl4TNQGHj",
        "outputId": "c3a42498-a6a5-4ffd-87d8-530b19217b63"
      },
      "outputs": [
        {
          "name": "stdout",
          "output_type": "stream",
          "text": [
            "Requirement already satisfied: pymupdf in /Users/sarah/anaconda3/lib/python3.11/site-packages (1.25.5)\n"
          ]
        }
      ],
      "source": [
        "!pip install pymupdf"
      ]
    },
    {
      "cell_type": "code",
      "execution_count": 2,
      "metadata": {
        "colab": {
          "base_uri": "https://localhost:8080/"
        },
        "id": "PvgPI8z5Z0_5",
        "outputId": "8ed169f5-a84f-493b-9805-25876c996117"
      },
      "outputs": [
        {
          "name": "stderr",
          "output_type": "stream",
          "text": [
            "[nltk_data] Downloading package punkt_tab to /Users/sarah/nltk_data...\n",
            "[nltk_data]   Package punkt_tab is already up-to-date!\n",
            "[nltk_data] Downloading package punkt to /Users/sarah/nltk_data...\n",
            "[nltk_data]   Package punkt is already up-to-date!\n"
          ]
        }
      ],
      "source": [
        "import requests\n",
        "\n",
        "import requests\n",
        "import fitz  # PyMuPDF\n",
        "from io import BytesIO\n",
        "\n",
        "import nltk\n",
        "nltk.download('punkt_tab')\n",
        "nltk.download('punkt')\n",
        "from nltk.tokenize import word_tokenize\n",
        "from collections import Counter\n",
        "import string"
      ]
    },
    {
      "cell_type": "code",
      "execution_count": 3,
      "metadata": {
        "id": "3NcYbQYiJ87N"
      },
      "outputs": [],
      "source": [
        "fasting_metabolic_query = {} # TODO: name this whatever for your particular query, make sure you replace future references to smoking_query with the new name\n",
        "\n",
        "def get_papers(query, limit=100):\n",
        "    url = \"https://api.semanticscholar.org/graph/v1/paper/search\"\n",
        "    params = {\n",
        "        \"query\": query,\n",
        "        \"limit\": limit,\n",
        "        \"fields\": \"title,authors,year,url,citationCount,referenceCount\"\n",
        "    }\n",
        "    response = requests.get(url, params=params)\n",
        "    return response.json()[\"data\"]\n",
        "\n",
        "papers = get_papers(\"Effects of fasting on metabolic health\") # TODO: Change this for respective query\n",
        "for i, paper in enumerate(papers, 1):\n",
        "  if i <= 30 or i > 70:\n",
        "    authors = paper.get('authors', 'N/A')\n",
        "    if authors != 'N/A':\n",
        "      authors = [author['name'] for author in authors]\n",
        "    fasting_metabolic_query[paper[\"url\"]] = {'title': paper.get(\"title\", \"N/A\"), 'authors': authors, 'year': paper.get(\"year\", 0),\n",
        "                                   'citations': paper.get(\"citationCount\", 0), 'references': paper.get(\"referenceCount\", 0),\n",
        "                                   'relevance': 2 if i <= 30 else 1}"
      ]
    },
    {
      "cell_type": "code",
      "execution_count": 4,
      "metadata": {
        "colab": {
          "base_uri": "https://localhost:8080/"
        },
        "id": "pw0_mDo_UGYs",
        "outputId": "718b91b2-c034-44ed-d778-4713dad7927c"
      },
      "outputs": [
        {
          "name": "stdout",
          "output_type": "stream",
          "text": [
            "1: https://www.semanticscholar.org/paper/8b7c778b54bc7863382b68b43651d3e65c3d3f06\n",
            "2: https://www.semanticscholar.org/paper/7e32516ec04f6c6bad8f32bed5868301398622d1\n",
            "3: https://www.semanticscholar.org/paper/7445100b833fdc2b273d2011b37c2e95f17b91fc\n",
            "4: https://www.semanticscholar.org/paper/a1ba22627cbb33cb87855e217a8d06a5857d330f\n",
            "5: https://www.semanticscholar.org/paper/6f20f5c3016a5419863035a1cbc108ad2f417995\n",
            "6: https://www.semanticscholar.org/paper/4b79bd312c9fdd2e5b7631e2aa514a7dc75bb820\n",
            "7: https://www.semanticscholar.org/paper/960e75207ba062e33b5e3d160f75981d7d26a434\n",
            "8: https://www.semanticscholar.org/paper/4d6ef5bce12ddfa23910dd48a64e47846dfcab1d\n",
            "9: https://www.semanticscholar.org/paper/beb682cd64e8019f501fc7b3210bbdd101be3da7\n",
            "10: https://www.semanticscholar.org/paper/13c3702c266c5806e6ec208c1d6460d920e0445f\n",
            "11: https://www.semanticscholar.org/paper/b8747af5907756a21a3d7816e371f7fbbad469e3\n",
            "12: https://www.semanticscholar.org/paper/d22201e704a930419373e8839292965ce946defc\n",
            "13: https://www.semanticscholar.org/paper/7ec8e377660f862c31c2eabac3d38131b6e7de73\n",
            "14: https://www.semanticscholar.org/paper/80c1300633327fca8b2da0a5d89838857df9dded\n",
            "15: https://www.semanticscholar.org/paper/cf318a8fb872f4536a9328ade2a5f0b655a13b2e\n",
            "16: https://www.semanticscholar.org/paper/8f2edc2016e4494ba45b60958e1a30014f8b695b\n",
            "17: https://www.semanticscholar.org/paper/0e81f52f1437991a1225e8e8c18f46425af13370\n",
            "18: https://www.semanticscholar.org/paper/d049d3cf2d3fef7a9838962566e014a38cf8bb9e\n",
            "19: https://www.semanticscholar.org/paper/f864dd7638dacd531ab543a67e236635f472fd3f\n",
            "20: https://www.semanticscholar.org/paper/e64c74562f34e62b553c12d643b834cf0ea0bb90\n",
            "21: https://www.semanticscholar.org/paper/f71336b784353df8a48eec39c50df5007b95e8fc\n",
            "22: https://www.semanticscholar.org/paper/c19dbba57cbc619356875c3ef1bde7c19c341707\n",
            "23: https://www.semanticscholar.org/paper/241490cbfa00518ef95fecbf7e1998a6bec89fdb\n",
            "24: https://www.semanticscholar.org/paper/21f34ec4028a6d2c956ac9c83ef45e6e223c3b7e\n",
            "25: https://www.semanticscholar.org/paper/0d40b434318e7a7e562aff2b5cac1fea16b38a15\n",
            "26: https://www.semanticscholar.org/paper/9b50b85e1e69a06d9c649c85736390c4cee8c288\n",
            "27: https://www.semanticscholar.org/paper/636bc16b17dcd686b4805a6ffd7d988f193d0400\n",
            "28: https://www.semanticscholar.org/paper/a3827108f324b3115573eedfe65b2c9584e176e8\n",
            "29: https://www.semanticscholar.org/paper/95eeedbb8b2cfcc387f227f9ac5a4223a8fb42de\n",
            "30: https://www.semanticscholar.org/paper/a1be6ef007080a990e694e906a571cfe962843a5\n",
            "31: https://www.semanticscholar.org/paper/ed5295d3b01cbd3bbde958a3bb2d2c640c281f2e\n",
            "32: https://www.semanticscholar.org/paper/3888d063581c2a52bfd37b3d0854d6b195094848\n",
            "33: https://www.semanticscholar.org/paper/2634dc4f1e4359254bbaada85d1ff000618099d5\n",
            "34: https://www.semanticscholar.org/paper/84a9fbdf8712d1bf41b95d528be2c63bfd3077d1\n",
            "35: https://www.semanticscholar.org/paper/9fb104e56baed2d13f14baf0e3abe458e556dc9f\n",
            "36: https://www.semanticscholar.org/paper/b1e58cdc26392459e1f74a9bc1280f883d7927f5\n",
            "37: https://www.semanticscholar.org/paper/dea21f3d2ce73d084ad4a1bd995922d363fac64f\n",
            "38: https://www.semanticscholar.org/paper/5694c8ecaaf85d7a41968d61690bc8cf8ec3e977\n",
            "39: https://www.semanticscholar.org/paper/ec56ee78301b922db0b57dd1c01326165db3c3a9\n",
            "40: https://www.semanticscholar.org/paper/2e53e66a28b01db1faf817c6923c64214fc11e33\n",
            "41: https://www.semanticscholar.org/paper/232f98f2b70699ffa58dc7ec4704a8763170fced\n",
            "42: https://www.semanticscholar.org/paper/b0793559792c0456bb5012f1ff99eeee89f82f76\n",
            "43: https://www.semanticscholar.org/paper/9c30ddb1b145f98f6f709e015114e885ffbf700d\n",
            "44: https://www.semanticscholar.org/paper/5d1be9e54b377f5498a02a235031e220301e2ea7\n",
            "45: https://www.semanticscholar.org/paper/235b20458cb55c1a8e3258e6d5464858f68c8e1e\n",
            "46: https://www.semanticscholar.org/paper/e40f4e0ab821727dce84adcb2a680b8ebd373e39\n",
            "47: https://www.semanticscholar.org/paper/e81a40fb771da5fd51417cf677367863fea01875\n",
            "48: https://www.semanticscholar.org/paper/04fb96560974e2c609660d5653d5ec732a56e3d0\n",
            "49: https://www.semanticscholar.org/paper/1f8d357c68f870dfd378321a925d6986221e0774\n",
            "50: https://www.semanticscholar.org/paper/8093722ec91b09da7c4344629d5831704d7279b6\n",
            "51: https://www.semanticscholar.org/paper/5c8aa767721c6b7ab2a476ae3b3423565c219f43\n",
            "52: https://www.semanticscholar.org/paper/e851ef11a835810afd1809d4f223ca70a6ed772a\n",
            "53: https://www.semanticscholar.org/paper/278cbf8bd57c2c2edc80473d8d2388a3e3602d05\n",
            "54: https://www.semanticscholar.org/paper/d74caf2c7d2cf49e7d54ab937ec855e43255d848\n",
            "55: https://www.semanticscholar.org/paper/e96107849c31cdf1147c31140c86484cf454b070\n",
            "56: https://www.semanticscholar.org/paper/6c50b2470ca14a1c8b8365e917f3c2dc8fc21aec\n",
            "57: https://www.semanticscholar.org/paper/8b1f2fb6e42a413a9cc770a7eb3be4a648b80bef\n",
            "58: https://www.semanticscholar.org/paper/91c77eb8f36ad628d6c6ef27a8a4a52c3b823f3a\n",
            "59: https://www.semanticscholar.org/paper/9e95336d39cf9ebc22f318d7a309f27f58399fe2\n",
            "60: https://www.semanticscholar.org/paper/cf1291cf0f87dd490ea2266825696f3f1c9341b5\n"
          ]
        }
      ],
      "source": [
        "for index, key in enumerate(fasting_metabolic_query.keys()):\n",
        "    print(f\"{index+1}: {key}\") #first 30 are relevant documents (relevance = 2), last 30 are semi-relevant documents (relevance = 1)"
      ]
    },
    {
      "cell_type": "code",
      "execution_count": 10,
      "metadata": {
        "id": "6CQZ2Od5O_6q"
      },
      "outputs": [],
      "source": [
        "import os\n",
        "def extract_text_from_pdf_url(pdf_urls):\n",
        "    urls = list(fasting_metabolic_query.keys())\n",
        "\n",
        "    for i, pdf_url in enumerate(pdf_urls):\n",
        "            if pdf_url.startswith(\"file://\"):\n",
        "                # Handle local file\n",
        "                local_path = pdf_url.replace(\"file://\", \"\")\n",
        "                if os.path.exists(local_path):\n",
        "                    with fitz.open(local_path) as doc:\n",
        "                        pdf_text = \"\\n\".join([page.get_text() for page in doc])\n",
        "                else:\n",
        "                    print(f\"File not found: {local_path}\")\n",
        "\n",
        "            else:\n",
        "                response = requests.get(pdf_url)\n",
        "                response.raise_for_status()\n",
        "                if \"application/pdf\" in response.headers.get(\"Content-Type\", \"\"):\n",
        "                    with fitz.open(stream=BytesIO(response.content), filetype=\"pdf\") as doc:\n",
        "                        pdf_text = \"\\n\".join([page.get_text() for page in doc])\n",
        "                else:\n",
        "                    print(f\"Invalid PDF format or non-PDF file at {pdf_url}\")\n",
        "\n",
        "                    \n",
        "\n",
        "            # Tokenize and clean\n",
        "            tokens = word_tokenize(pdf_text)\n",
        "            tokens = [token for token in tokens if token not in string.punctuation]\n",
        "            word_counts = Counter(tokens)\n",
        "            fasting_metabolic_query[urls[i]]['tokens'] = word_counts"
      ]
    },
    {
      "cell_type": "code",
      "execution_count": 11,
      "metadata": {},
      "outputs": [
        {
          "data": {
            "text/plain": [
              "60"
            ]
          },
          "execution_count": 11,
          "metadata": {},
          "output_type": "execute_result"
        }
      ],
      "source": [
        "# TODO\n",
        "pdf_urls = [\n",
        "    'https://pdfs.semanticscholar.org/988c/e762e97ec9c21be3f9da38001e58dc44ad52.pdf',\n",
        "    'https://irep.ntu.ac.uk/id/eprint/43043/1/1444715_a1711_Clayton.pdf',\n",
        "    'https://pdfs.semanticscholar.org/0881/0341a5bd26686d4cd7711895d7865d6e914d.pdf',\n",
        "    'file:///Users/sarah/Downloads/aquaculture.pdf',\n",
        "    'https://pdfs.semanticscholar.org/2168/33cb2f3c7c8706f508b77f2cce8fdac77f11.pdf',\n",
        "    'https://pdfs.semanticscholar.org/7505/39e99db0aef7a83607b0db197ea7c7db0da0.pdf',\n",
        "    'https://pdfs.semanticscholar.org/ace0/61936dadee232b37b71e46a24b602c8cc501.pdf',\n",
        "    'https://www.anataramedicine.com/wp-content/uploads/2020/01/Effects-of-Intermittent-Fasting-on-Health.pdf',\n",
        "    'file:///Users/sarah/Downloads/unravelling.pdf',\n",
        "    'https://bmcbiol.biomedcentral.com/counter/pdf/10.1186/s12915-021-00987-5.pdf',\n",
        "\n",
        "    'https://dmsjournal.biomedcentral.com/counter/pdf/10.1186/s13098-023-01190-y.pdf',\n",
        "    'file:///Users/sarah/Downloads/nuad026.pdf',\n",
        "    'https://www.scielo.cl/pdf/rmc/v151n1/0717-6163-rmc-151-01-0081.pdf',\n",
        "    'file:///Users/sarah/Downloads/nuae0014.pdf',\n",
        "    'https://pdfs.semanticscholar.org/3134/f8d998f0acc52b6d7c2ca48d6a98706afb5b.pdf',\n",
        "    'file:///Users/sarah/Downloads/NEJMx190038.pdf',\n",
        "    'https://pdfs.semanticscholar.org/0e81/f52f1437991a1225e8e8c18f46425af13370.pdf',\n",
        "    'https://pdfs.semanticscholar.org/75b6/a9086721436e6d802b070f0d94b366079f95.pdf',\n",
        "    'file:///Users/sarah/Downloads/000647143900001.pdf',\n",
        "    'file:///Users/sarah/Downloads/nihms-1737120.pdf',\n",
        "\n",
        "    'file:///Users/sarah/Downloads/fendo-08-00340.pdf',\n",
        "    'file:///Users/sarah/Downloads/1.3.4.pdf',\n",
        "    'file:///Users/sarah/Downloads/1-s2.0-S0022316622002796-main.pdf',\n",
        "    'https://pdfs.semanticscholar.org/22c5/41d7c695acdd760bfd93f06d6fd88591706d.pdf',\n",
        "    'file:///Users/sarah/Downloads/ctondelli,+27-akkocai-7588.pdf',\n",
        "    'https://www.me-foreningen.no/wp-content/uploads/2019/12/Int-fasting-2017-annurev-nutr-071816-064634.pdf',\n",
        "    'https://pdfs.semanticscholar.org/636b/c16b17dcd686b4805a6ffd7d988f193d0400.pdf',\n",
        "    'file:///Users/sarah/Downloads/CMC-31-14-01.pdf',\n",
        "    'https://pdfs.semanticscholar.org/3cb1/4f0e616d46dd217e446e0cfd3b1a9ab71fc3.pdf',\n",
        "    'file:///Users/sarah/Downloads/fpubh-10-751126.pdf',\n",
        "\n",
        "    'https://pdfs.semanticscholar.org/75f0/4ad827f9e454b36fd160305616f8312dcba5.pdf',\n",
        "    'file:///Users/sarah/Downloads/SJG-30-53.pdf',\n",
        "    'file:///Users/sarah/Downloads/Phytotherapysupplement.pdf',\n",
        "    'file:///Users/sarah/Downloads/s41574-023-00817-4.pdf',\n",
        "    'file:///Users/sarah/Downloads/nihms-1064487.pdf',\n",
        "    'https://pdfs.semanticscholar.org/b1e5/8cdc26392459e1f74a9bc1280f883d7927f5.pdf',\n",
        "    'file:///Users/sarah/Downloads/s11695-021-05724-z.pdf',\n",
        "    'https://edoc.mdc-berlin.de/id/eprint/22548/1/22548oa.pdf',\n",
        "    'file:///Users/sarah/Downloads/FASSB.pdf',\n",
        "    'https://pdfs.semanticscholar.org/2e53/e66a28b01db1faf817c6923c64214fc11e33.pdf',\n",
        "\n",
        "    'https://pdfs.semanticscholar.org/232f/98f2b70699ffa58dc7ec4704a8763170fced.pdf',\n",
        "    'file:///Users/sarah/Downloads/physio.pdf',\n",
        "    'https://pdfs.semanticscholar.org/124a/432ae589c5ece6fd3a1354d011ce1af0bd22.pdf',\n",
        "    'file:///Users/sarah/Downloads/kjn-43-57.pdf',\n",
        "    'file:///Users/sarah/Downloads/EMMM-14-e14418.pdf',\n",
        "    'file:///Users/sarah/Downloads/nihms-1651371.pdf',\n",
        "    'https://pdfs.semanticscholar.org/e81a/40fb771da5fd51417cf677367863fea01875.pdf',\n",
        "    'https://pdfs.semanticscholar.org/04fb/96560974e2c609660d5653d5ec732a56e3d0.pdf',\n",
        "    'https://www.kjcn.or.kr/upload/pdf/DJOSBK_2008_v13n1_46.pdf',\n",
        "    'https://www.cambridge.org/core/services/aop-cambridge-core/content/view/1E4307FAFD57B566BE13193A09037673/S2048679019000338a.pdf/div-class-title-changes-in-human-gut-microbiota-composition-are-linked-to-the-energy-metabolic-switch-during-10-d-of-buchinger-fasting-div.pdf',\n",
        "\n",
        "    'https://pdfs.semanticscholar.org/3740/7ab9f01205a43fa0fd2aabb14d71e35d2454.pdf',\n",
        "    'https://pdfs.semanticscholar.org/0018/d791e57c08ceb7452a11974542886570b89c.pdf',\n",
        "    'https://pdfs.semanticscholar.org/e33d/c07dc648a2d05403dc64ecd1a74fac97694d.pdf',\n",
        "    'https://pdfs.semanticscholar.org/eac7/433af95ba561feafb3bb2d3c0cc71f8fd70e.pdf',\n",
        "    'https://bmcsportsscimedrehabil.biomedcentral.com/counter/pdf/10.1186/s13102-019-0141-9.pdf',\n",
        "    'https://pdfs.semanticscholar.org/e857/eb9204ce554a7607f4c369f7d57ddbca3e41.pdf',\n",
        "    'file:///Users/sarah/Downloads/fmicb-10-01809.pdf',\n",
        "    'file:///Users/sarah/Downloads/justesen-et-al-interactions-of-lipid-genetic-risk-scores-with-estimates-of-metabolic-health-in-a-danish-population.pdf',\n",
        "    'file:///Users/sarah/Downloads/strengthtrain.pdf',\n",
        "    'file:///Users/sarah/Downloads/1-s2.0-S1051227619303139.pdf'\n",
        "    ] # fill out as list of pdf urls (need to get them manually), should be of size 60 (make sure it's in the same order as the urls in the previous box)\n",
        "len(pdf_urls)"
      ]
    },
    {
      "cell_type": "code",
      "execution_count": 12,
      "metadata": {},
      "outputs": [],
      "source": [
        "extract_text_from_pdf_url(pdf_urls)"
      ]
    },
    {
      "cell_type": "code",
      "execution_count": 8,
      "metadata": {
        "colab": {
          "base_uri": "https://localhost:8080/"
        },
        "id": "c1gkqBQHcivE",
        "outputId": "4f3969d4-bff3-4b0b-f395-aef77b12c0e4"
      },
      "outputs": [
        {
          "name": "stdout",
          "output_type": "stream",
          "text": [
            "{'title': 'Effects of Different Types of Intermittent Fasting Interventions on Metabolic Health in Healthy Individuals (EDIF): A Randomised Trial with a Controlled-Run in Phase', 'authors': ['Daniel Herz', 'Sebastian Karl', 'Johannes W Weiß', 'Paul Zimmermann', 'Sandra Haupt', 'Rebecca T. Zimmer', 'Janis R. Schierbauer', 'Nadine B Wachsmuth', 'Maximilian P Erlmann', 'T. Niedrist', 'Kayvan Khoramipour', 'Thomas Voit', 'Sian Rilstone', 'Harald Sourij', 'O. Moser'], 'year': 2024, 'citations': 7, 'references': 45, 'relevance': 2, 'tokens': Counter({'the': 444, 'of': 218, 'in': 200, 'and': 196, '±': 154, 'fasting': 111, 'to': 110, 'p': 110, 'a': 102, 'for': 78, 'was': 78, '16/8': 72, 'were': 69, 'ADF': 67, '20/4': 65, 'significant': 58, 'The': 55, 'group': 53, 'with': 50, 'on': 48, 'as': 46, 'no': 46, 'participants': 45, 'study': 43, 'IF': 42, 'CrossRef': 41, 'cohort': 39, 'groups': 36, 'PubMed': 35, 'In': 33, 'by': 32, 'during': 32, '16': 30, 'phase': 30, 'h': 29, 'intervention': 29, '1': 28, '2': 28, 'glucose': 28, 'three': 26, 'or': 26, 'not': 25, 'among': 25, 'differences': 25, 'A': 24, 'is': 24, 'data': 24, 'that': 24, 'from': 24, 'effect': 24, '2024': 23, 'be': 23, 'Intermittent': 22, 'Nutrients': 22, 'Fasting': 20, 'individuals': 20, 'S.': 19, 'healthy': 19, 'at': 19, 'intake': 19, 'periods': 19, 'all': 19, 'J.': 18, 'body': 18, 'visit': 18, '17': 18, 'are': 18, 'showed': 18, 'levels': 18, 'trial': 18, 'et': 17, 'an': 17, '8': 17, '0.01': 17, 'mean': 17, 'observed': 17, 'metabolic': 16, 'adherence': 16, 'loss': 16, '1114': 16, 'caloric': 16, 'mg/dL': 16, 'using': 16, 'al': 15, 'EDIF': 15, '3': 15, 'mass': 15, 'n': 15, 'weeks': 15, '0.05': 15, 'weight': 15, 'studies': 15, 'their': 15, 'blood': 15, 'Body': 15, 'cohorts': 15, 'A.': 15, '4': 14, 'our': 14, 'BMI': 14, 'time': 13, 'remaining': 13, '20': 13, 'across': 13, 'Furthermore': 13, 'food': 13, 'kg': 13, 'H.': 13, 'uni-bayreuth.de': 12, 'D.H.': 12, 'effects': 12, 'protocols': 12, 'which': 12, 'time-restricted': 12, 'feeding': 12, 'eating': 12, 'restriction': 12, 'protocol': 12, 'have': 12, 'found': 12, 'Diabetes': 12, 'did': 12, 'mg/L': 12, 'M.': 12, 'Effects': 11, 'total': 11, 'results': 11, 's': 11, 'period': 11, 'can': 11, 'analysed': 11, 'this': 11, 'participating': 11, 'Weight': 11, 'Trial': 10, 'Germany': 10, 'health': 10, 'controlled-run': 10, 'conducted': 10, 'obtained': 10, 'However': 10, 'Obesity': 10, '’': 10, 'it': 10, 'there': 10, 'OGTT': 10, 'each': 10, 'Table': 10, 'O.M': 10, 'T.': 9, 'Metabolic': 9, 'Health': 9, '6': 9, 'University': 9, 'Clinical': 9, '0': 9, 'different': 9, '11': 9, 'statistically': 9, 'interventions': 9, 'addition': 9, 'analysis': 9, '2022': 9, 'any': 9, 'Continuous': 9, 'interstitial': 9, 'g/L': 9, 'G.': 9, 'D.': 8, 'This': 8, '25': 8, 'eight': 8, 'bodyweight': 8, 'specific': 8, 'obese': 8, '12': 8, 'over': 8, 'women': 8, 'daily': 8, 'four': 8, 'respective': 8, 'had': 8, 'Glucose': 8, 'app': 8, 'reduction': 8, 'N.': 8, 'B.': 8, 'P.': 7, 'https': 7, 'Metabolism': 7, 'alternate-day': 7, 'baseline': 7, 'after': 7, 'such': 7, 'other': 7, 'between': 7, 'energy': 7, 'via': 7, 'also': 7, 'kg/m2': 7, 'diet': 7, '14': 7, 'interventional': 7, 'parameters': 7, '15': 7, 'range': 7, 'Study': 7, 'Figure': 7, 'Composition': 7, 'cholesterol': 7, 'HDL': 7, 'mmol/L': 7, 'individual': 7, 'only': 7, 'ANOVA': 7, 'we': 7, '0.10': 7, 'changes': 7, 'differ': 7, '∆': 7, 'kcal': 7, 'p-Value': 7, '0.41': 7, '0.17': 7, 'L.': 7, 'Loss': 7, '2018': 7, 'C.': 7, 'Type': 7, 'Randomized': 7, 'Time-Restricted': 7, '7': 6, '5': 6, 'Bayreuth': 6, 'Medical': 6, 'intermittent': 6, 'within': 6, 'composition': 6, 'significantly': 6, '0.57': 6, 'Based': 6, '2023': 6, 'more': 6, 'has': 6, 'assessed': 6, 'potential': 6, '24': 6, 'while': 6, 'allowed': 6, 'similar': 6, 'calorie': 6, 'Abbreviations': 6, 'WHR': 6, 'LDL': 6, 'haemoglobin': 6, 'granulocytes': 6, 'Care': 6, 'presented': 6, 'remained': 6, '0.03': 6, 'Data': 6, 'revealed': 6, '0.04': 6, 'values': 6, 'SMM': 6, 'Cohort': 6, 'K.': 6, '2020': 6, 'Energy': 6, 'Clin': 6, '2019': 6, 'Healthy': 5, 'Phase': 5, '22': 5, '10': 5, 'Sourij': 5, 'Bamberg': 5, 'Graz': 5, 'Research': 5, 'Group': 5, 'population': 5, 'Therefore': 5, 'index': 5, 'markers': 5, 'overweight': 5, 'people': 5, 'day': 5, 'days': 5, 'review': 5, 'trials': 5, 'been': 5, 'used': 5, 'All': 5, 'test': 5, 'who': 5, 'examination': 5, 'During': 5, 'fat': 5, 'determined': 5, 'distribution': 5, 'sample': 5, 'CGM': 5, 'continuous': 5, 'record': 5, 'consumption': 5, 'Diet': 5, 'Regarding': 5, 'SD': 5, 'two-way': 5, 'Mass': 5, 'assessment': 5, 'could': 5, '0.30': 5, 'Upon': 5, 'course': 5, 'decrease': 5, '∆−0.05': 5, '0.07': 5, 'those': 5, '0.15': 5, '0.46': 5, '0.25': 5, 'Effect': 5, 'increase': 5, 'both': 5, 'compared': 5, 'Review': 5, 'Cardiovascular': 5, 'Restriction': 5, 'E.': 5, 'Nutr': 5, 'F.': 5, 'Med': 5, 'Lee': 5, 'Interventions': 4, 'authors': 4, 'Exercise': 4, 'Physiology': 4, 'Department': 4, 'Medicine': 4, 'feasibility': 4, 'reduced': 4, 'but': 4, 'some': 4, 'even': 4, 'indicated': 4, 'years': 4, 'these': 4, 'TRF': 4, 'positive': 4, 'shown': 4, 'It': 4, 'whether': 4, 'followed': 4, 'associated': 4, 'ketone': 4, 'may': 4, '13': 4, 'comparing': 4, 'led': 4, 'Trials': 4, '2.1': 4, 'trend': 4, 'per': 4, 'well': 4, 'including': 4, 'previous': 4, 'USA': 4, '19': 4, 'end': 4, 'e.g.': 4, 'same': 4, 'procedure': 4, 'Blood': 4, 'analyses': 4, 'CRP': 4, 'lipoprotein': 4, 'triglycerides': 4, 'further': 4, 'various': 4, 'volume': 4, 'MCV': 4, 'corpuscular': 4, 'MCH': 4, 'MCHC': 4, 'RDW': 4, 'MPV': 4, 'Monitoring': 4, 'adhered': 4, 'clinical': 4, 'times': 4, 'detailed': 4, 'duration': 4, 'possible': 4, 'Protocol': 4, 'When': 4, 'anthropometric': 4, 'area': 4, 'For': 4, 'findings': 4, '26': 4, 'Parameter': 4, '0.06': 4, 'No': 4, 'testing': 4, '∆BMI': 4, 'p-value': 4, '∆−0.04': 4, '0.74': 4, 'contrast': 4, '0.16': 4, '0.33': 4, '∆−0.01': 4, '0.99': 4, 'plasma': 4, 'Our': 4, 'Varady': 4, '37': 4, '40': 4, 'Statement': 4, '∆−0.10': 4, 'Overweight': 4, 'Disease': 4, 'Systematic': 4, 'Controlled': 4, '2021': 4, 'Feeding': 4, 'versus': 4, 'Chen': 4, 'Eating': 4, 'de': 4, 'Zimmermann': 3, 'Haupt': 3, 'Zimmer': 3, 'Schierbauer': 3, 'Wachsmuth': 3, 'N.B': 3, 'M.P': 3, 'Different': 3, 'Individuals': 3, 'Randomised': 3, 'April': 3, 'MDPI': 3, 'Center': 3, 'J.W': 3, 'S.R': 3, 'Institute': 3, 'Laboratory': 3, 'Diagnostics': 3, 'Austria': 3, 'analyse': 3, 'efficacy': 3, 'primary': 3, 'outcome': 3, 'into': 3, 'Adherence': 3, 'suggest': 3, 'World': 3, 'will': 3, 'recent': 3, 'established': 3, 'one': 3, 'most': 3, 'hours': 3, 'method': 3, 'systematic': 3, '27': 3, 'initial': 3, 'reported': 3, 'comparison': 3, 'Further': 3, '2.5': 3, 'men': 3, '30': 3, 'important': 3, 'bodies': 3, 'disease': 3, 'risk': 3, 'CVD': 3, '9': 3, 'diabetes': 3, 'improve': 3, 'comparable': 3, 'often': 3, 'German': 3, 'informed': 3, 'consent': 3, 'performed': 3, 'larger': 3, 'without': 3, 'oral': 3, 'normal': 3, 'lower': 3, 'if': 3, 'they': 3, 'products': 3, 'five': 3, 'exclusion': 3, 'included': 3, '50': 3, 'rate': 3, 'due': 3, '2.2': 3, 'After': 3, 'assigned': 3, 'First': 3, 'defined': 3, 'chart': 3, 'research': 3, 'fasted': 3, 'overnight': 3, 'case': 3, 'according': 3, 'waist': 3, 'circumference': 3, 'measured': 3, 'median': 3, 'Over': 3, 'cell': 3, 'GmbH': 3, 'manufacturer': 3, 'These': 3, 'tests': 3, 'variation': 3, 'precision': 3, 'ten': 3, 'recommended': 3, 'SDGluc': 3, 'CV': 3, 'Fddb': 3, 'Version': 3, 'consumed': 3, 'nutritional': 3, 'recorded': 3, 'where': 3, 'measurements': 3, 'water': 3, 'drinks': 3, 'unsweetened': 3, 'tea': 3, 'coffee': 3, 'beverage': 3, 'choice': 3, 'observe': 3, 'Analysis': 3, 'Microsoft': 3, 'completed': 3, 'characteristics': 3, 'Cho': 3, 'Results': 3, 'initially': 3, '32': 3, 'two': 3, '3.1': 3, '3.4': 3, '0.91': 3, 'By': 3, 'displayed': 3, 'consideration': 3, '0.38': 3, '0.27': 3, '0.32': 3, 'analysing': 3, 'BFM': 3, '0.22': 3, 'FFM': 3, '1.06': 3, '0.36': 3, '0.61': 3, '0.09': 3, 'macronutrient': 3, '∆Differences': 3, 'Interventional': 3, 'Respective': 3, '0.12': 3, '0.34': 3, '∆differences': 3, '0.45': 3, '0.13': 3, '0.08': 3, 'A1': 3, 'Glycaemia': 3, '0.59': 3, 'when': 3, 'achieved': 3, 'trends': 3, 'small': 3, '28': 3, 'show': 3, 'need': 3, 'populations': 3, 'should': 3, 'needed': 3, 'Zhang': 3, 'S.K.': 3, '0.66': 3, '∆−0.50': 3, '0.29': 3, '0.02': 3, 'Available': 3, 'online': 3, 'accessed': 3, '18': 3, 'M.L': 3, 'Prevention': 3, 'R.': 3, 'N.A': 3, 'Int': 3, '42': 3, 'Tripolt': 3, 'D.A': 3, 'Rev': 3, 'Patients': 3, 'Pilot': 3, 'J': 3, 'W.T': 3, 'Adults': 3, 'Time': 3, 'Y.': 3, 'Women': 3, 'Liu': 3, '2015': 3, 'Precision': 3, 'Herz': 2, 'Karl': 2, 'Weiß': 2, 'R.T.': 2, 'Erlmann': 2, 'Niedrist': 2, 'Types': 2, 'Controlled-Run': 2, '1114.': 2, '//': 2, 'Switzerland': 2, 'article': 2, 'under': 2, 'terms': 2, 'conditions': 2, 'Paul': 2, 'Moser': 2, 'Division': 2, 'Sport': 2, 'Science': 2, 'J.S': 2, 'Klinikum': 2, '96049': 2, 'Interdisciplinary': 2, 'Nutrition': 2, 'Molecular': 2, 'Chemical': 2, '8036': 2, 'medunigraz.at': 2, 'Kerman': 2, 'London': 2, 'aimed': 2, 'evaluated': 2, 'randomised': 2, 'seen': 2, '84.5': 2, '23.0': 2, '92.7': 2, '9.5': 2, '78.1': 2, '33.5': 2, 'promising': 2, 'challenging': 2, 'anthropometry': 2, 'metabolism': 2, 'prevalence': 2, 'obesity': 2, 'increasing': 2, 'Federation': 2, 'Atlas': 2, 'tion': 2, 'than': 2, 'strategies': 2, '“': 2, '”': 2, 'methods': 2, 'certain': 2, 'calories': 2, 'An': 2, 'window': 2, 'second': 2, 'ranging': 2, 'events': 2, 'twelve': 2, 'direct': 2, 'parallel': 2, 'missing': 2, 'Participants': 2, 'blocks': 2, '2-week': 2, 'determine': 2, 'Heilbronn': 2, 'change': 2, 'On': 2, 'hand': 2, 'investigated': 2, 'factors': 2, 'type': 2, 'however': 2, 'partici-': 2, 'pants': 2, 'offers': 2, 'benefits': 2, 'management': 2, 'chronic': 2, 'Despite': 2, 'investigating': 2, 'indications': 2, 'preliminary': 2, 'adhere': 2, 'eight-week': 2, 'approved': 2, 'May': 2, 'Helsinki': 2, 'provided': 2, 'cardiac': 2, 'tolerance': 2, 'glycaemia': 2, 'excluded': 2, 'another': 2, 'pressure': 2, 'mmHg': 2, 'criteria': 2, 'ECG': 2, '35': 2, 'bpm': 2, 'screening': 2, 'diseases': 2, 'heart': 2, 'inclusion': 2, 'low': 2, 'examined': 2, 'disorders': 2, 'Design': 2, 'Randomizer': 2, '4.0': 2, 'beginning': 2, 'flow': 2, 'asked': 2, 'visits': 2, 'BIA': 2, 'bioelectrical': 2, 'impedance': 2, 'Anthropometry': 2, 'physical': 2, 'consisting': 2, 'skeletal': 2, 'muscle': 2, 'fat-free': 2, 'Inbody': 2, 'cm': 2, 'Venous': 2, 'drawn': 2, 'count': 2, '85': 2, 'mL': 2, 'samples': 2, 'collected': 2, 'low-density': 2, 'high-density': 2, 'leukocytes': 2, 'erythrocytes': 2, 'haematocrit': 2, 'red': 2, 'width': 2, 'thrombocytes': 2, 'monocytes': 2, 'lymphocytes': 2, 'serum': 2, 'analytical': 2, 'controlled': 2, 'below': 2, 'instructed': 2, 'concentration': 2, 'Friedewald': 2, 'capillary': 2, 'earlobe': 2, 'Abbott': 2, 'Assessment': 2, '•': 2, 'Oral': 2, 'verify': 2, '21': 2, 'received': 2, '75': 2, '60': 2, 'last': 2, 'Dexcom': 2, 'G6': 2, 'Inc.': 2, 'San': 2, 'Diego': 2, 'CA': 2, '23': 2, 'ranges': 2, 'standard': 2, 'deviation': 2, 'coefficient': 2, 'tracker': 2, 'Food': 2, 'Database': 2, 'recording': 2, 'varied': 2, 'foods': 2, 'accurate': 2, '2.4': 2, 'interval': 2, 'consume': 2, 'There': 2, 'fixed': 2, 'requirement': 2, 'abstained': 2, 'permitted': 2, 'almost': 2, 'Alternate': 2, 'Day': 2, 'Statistical': 2, 'Excel': 2, 'GraphPad': 2, 'Software': 2, 'interquartile': 2, 'repeated': 2, 'considering': 2, 'AUC': 2, 'one-way': 2, 'based': 2, 'meta-analysis': 2, 'meaningful': 2, '25.9': 2, '24.8': 2, 'Bodyweight': 2, '0.77': 2, '0.80': 2, '0.90': 2, '0.56': 2, 'Index': 2, 'focussing': 2, 'pronounced': 2, '0.52': 2, 'relevant': 2, 'reductions': 2, '0.71': 2, '0.39': 2, 'icant': 2, '0.26': 2, 'overall': 2, 'Fat': 2, 'regarding': 2, '1.16': 2, 'BF': 2, '∆0.01': 2, '0.98': 2, '∆−0.02': 2, '0.95': 2, 'Analysing': 2, 'throughout': 2, 'nearly': 2, '0.42': 2, 'macronutrients': 2, 'Differences': 2, '0.60': 2, '0.001': 2, '∆mean': 2, 'Significant': 2, 'Markers': 2, 'Throughout': 2, 'Cholesterol': 2, '0.006': 2, '0.51': 2, 'increased': 2, '∆11.00': 2, 'constant': 2, '0.85': 2, '0.44': 2, '0.68': 2, 'evaluation': 2, 'Other': 2, 'Range': 2, 'TAR': 2, 'TIR': 2, '98': 2, 'TBR': 2, '70': 2, '0.40': 2, '120-minute': 2, 'dietary': 2, 'Moreover': 2, 'Cai': 2, 'al.': 2, 'Cienfuegos': 2, '29': 2, 'regimens': 2, 'lean': 2, 'greater': 2, 'towards': 2, 'Seimon': 2, '36': 2, 'Arguin': 2, '33': 2, 'short': 2, 'closer': 2, 'focus': 2, 'shed': 2, 'additional': 2, 'consistent': 2, 'considered': 2, 'several': 2, 'Second': 2, '38': 2, 'medicine': 2, 'provide': 2, 'valuable': 2, 'relatively': 2, 'therefore': 2, 'evidence': 2, '43': 2, 'power': 2, 'size': 2, 'Informed': 2, 'I': 2, 'thank': 2, 'commitment': 2, '0.23': 2, '0.20': 2, 'g/dL': 2, '0.64': 2, '∆−0.06': 2, '∆−0.20': 2, '0.35': 2, 'fl': 2, '0.43': 2, '∆−0.17': 2, '∆0.00': 2, 'Johnson': 2, 'Heart': 2, 'Kelly': 2, 'Byrne': 2, 'N.M.': 2, 'Sainsbury': 2, 'King': 2, 'Hills': 2, 'A.P': 2, 'Wood': 2, 'R.E': 2, 'Improves': 2, 'Obese': 2, 'Men': 2, 'Obes': 2, 'Anton': 2, 'S.D': 2, 'Alternate-Day': 2, 'Subjects': 2, 'S.J': 2, 'Physiological': 2, 'Humans': 2, 'Cell': 2, 'Plasma': 2, 'Man': 2, 'Obermayer': 2, 'Pferschy': 2, 'Kojzar': 2, 'Aberer': 2, '46': 2, 'Kesztyüs': 2, 'Impact': 2, 'K.A': 2, 'Calorie': 2, 'Which': 2, 'Is': 2, 'Robertson': 2, 'T.M': 2, 'Feasibility': 2, 'Standards': 2, 'B.S': 2, 'M.E': 2, 'O.': 2, 'Eckstein': 2, 'Prospective': 2, 'S.A.': 2, 'I.': 2, 'Dietary': 2, 'Y.H': 2, 'E.S': 2, 'Meta-Analysis': 2, 'Z.Y': 2, 'Restricted': 2, 'Wang': 2, 'Q.': 2, 'Silva': 2, 'D.R': 2, 'Parameters': 2, 'JAMA': 2, 'Risk': 2, 'Transl': 2, 'Approaches': 2, 'Control': 2, 'Do': 2, 'Diets': 2, 'Benefits': 2, 'Public': 2, 'Understanding': 2, 'Cardiometabolic': 2, 'Approach': 2, 'Relation': 2, 'Status': 2, 'and/or': 2, 'editor': 2, 'Citation': 1, 'doi.org/10.3390/nu16081114': 1, 'Received': 1, 'February': 1, 'Revised': 1, 'Accepted': 1, 'Published': 1, 'Copyright': 1, '©': 1, 'Licensee': 1, 'Basel': 1, 'open': 1, 'access': 1, 'distributed': 1, 'Creative': 1, 'Commons': 1, 'Attribution': 1, 'CC': 1, 'BY': 1, 'license': 1, 'creativecommons.org/licenses/by/': 1, '4.0/': 1, 'nutrients': 1, 'Article': 1, 'Daniel': 1, 'Sebastian': 1, 'Johannes': 1, '1,2,3': 1, 'Sandra': 1, '1,4': 1, 'Rebecca': 1, 'Tanja': 1, 'Janis': 1, 'Nadine': 1, 'Bianca': 1, 'Maximilian': 1, 'Tobias': 1, 'Kayvan': 1, 'Khoramipour': 1, 'Thomas': 1, 'Voit': 1, 'Sian': 1, 'Rilstone': 1, '1,7': 1, 'Harald': 1, 'Othmar': 1, '1,8': 1, 'BaySpo—Bayreuth': 1, '95440': 1, 'daniel.herz': 1, 'sebastian.karl': 1, 'S.K': 1, 'johannes.w.weiss': 1, 'paul.zimmermann': 1, 'P.Z': 1, 'sandra.haupt': 1, 'S.H': 1, 'rebecca.zimmer': 1, 'R.T.Z': 1, 'janis.schierbauer': 1, 'nadine.wachsmuth': 1, 'N.B.W': 1, 'maximilian.erlmann': 1, 'M.P.E': 1, 'thomas.voit': 1, 'T.V': 1, 'sian.rilstone': 1, 'Cardiology': 1, 'Sportsmedicine': 1, 'Faculty': 1, 'Life': 1, 'Science—Food': 1, 'Chair': 1, '95326': 1, 'Kulmbach': 1, 'tobias.niedrist': 1, 'Neuroscience': 1, 'Neuropharmacology': 1, 'Sciences': 1, '76198-13159': 1, 'Iran': 1, 'k.khoramipour': 1, 'gmail.com': 1, 'Digestion': 1, 'Reproduction': 1, 'Imperial': 1, 'College': 1, 'SW7': 1, '2AZ': 1, 'UK': 1, 'Endocrinology': 1, 'Diabetology': 1, 'Internal': 1, 'ha.sourij': 1, 'Correspondence': 1, 'othmar.moser': 1, 'Tel': 1, '+49-': 1, '921-55-3465': 1, 'Abstract': 1, 'promotion': 1, 'remain': 1, 'controversial': 1, 'haematological': 1, 'Assessments': 1, 'four-week': 1, 'Both': 1, 'might': 1, 'remains': 1, 'Keywords': 1, 'Introduction': 1, 'global': 1, 'constantly': 1, 'predicting': 1, '51': 1, 'world': 1, 'popula-': 1, 'i.e.': 1, 'billion': 1, 'next': 1, 'decades': 1, 'Among': 1, 'pru-': 1, 'dent': 1, 'approach': 1, 'called': 1, 'emerged': 1, 'solution': 1, 'combat': 1, '//doi.org/10.3390/nu16081114': 1, '//www.mdpi.com/journal/nutrients': 1, 'pandemic': 1, 'itself': 1, 'refers': 1, 'basically': 1, 'refraining': 1, 'common': 1, 'forms': 1, 'consuming': 1, 'extended': 1, 'wherein': 1, 'fast': 1, 'Another': 1, 'typical': 1, 'form': 1, 'involves': 1, 'every': 1, 'demonstrated': 1, '0.8': 1, '13.0': 1, 'serious': 1, 'adverse': 1, 'Comparing': 1, 'effectiveness': 1, 'despite': 1, 'variations': 1, 'leading': 1, '9.9': 1, 'underwent': 1, 'interspersed': 1, 'seven': 1, 'equalisation': 1, '5,6': 1, 'transferred': 1, 'normal-weight': 1, '20.0–30.0': 1, 'regressed': 1, 'bodyweights': 1, 'experienced': 1, '0.5': 1, 'insulin': 1, 'non-obese': 1, 'elevations': 1, 'free-fatty': 1, 'acids': 1, 'FFAs': 1, 'opposing': 1, 'inflammation': 1, 'preventive': 1, 'against': 1, 'cardiovascular': 1, 'beneficial': 1, 'mortality': 1, 'Recently': 1, 'viable': 1, 'alternative': 1, 'prolonged': 1, 'numerous': 1, 'design': 1, 'Using': 1, 'social': 1, 'deviations': 1, 'present': 1, 'investigate': 1, 'Materials': 1, 'Methods': 1, 'conceptualised': 1, 'local': 1, 'ethics': 1, 'committee': 1, '22-014—GB': 1, 'registered': 1, 'Register': 1, 'DRKS00029003': 1, 'conformity': 1, 'Declaration': 1, 'Good': 1, 'Practice': 1, 'about': 1, 'written': 1, 'participate': 1, 'before': 1, 'trial-': 1, 'related': 1, 'examinations': 1, 'designed': 1, 'proof-of-concept': 1, 'Eligibility': 1, 'Criteria': 1, 'aged': 1, '18–65': 1, '≥20': 1, 'mass-': 1, 'oxygen': 1, 'uptake': 1, 'VO2max': 1, 'mL/min/kg': 1, 'eligible': 1, 'metabolically': 1, 'abnormal-': 1, 'ities': 1, 'overnight-fasted': 1, '99': 1, 'simultaneously': 1, 'enrolled': 1, 'required': 1, 'investigational': 1, 'medicinal': 1, '90–150': 1, 'systole': 1, '50–95': 1, 'diastole': 1, 'resting': 1, 'minutes': 1, 'supine': 1, 'position': 1, 'history': 1, 'multiple': 1, 'severe': 1, 'allergies': 1, 'trial-related': 1, 'electro-': 1, 'cardiography': 1, 'abnormalities': 1, 'bradycardia': 1, 'beats': 1, 'minute': 1, 'compromising': 1, 'participant': 1, 'safety': 1, 'compliance': 1, 'limit': 1, 'possibility': 1, 'athletes': 1, 'exercise': 1, 'regularly': 1, 'mentioned': 1, 'criterion': 1, '17,18': 1, 'cardiologist': 1, 'exclude': 1, 'arrhythmia': 1, 'conduction': 1, '4-week': 1, 'randomly': 1, '1:1:1': 1, 'Social': 1, 'Psychology': 1, 'Network': 1, 'Lancaster': 1, 'PA': 1, 'preceded': 1, 'Visit': 1, 'depicted': 1, 'study-related': 1, 'arrive': 1, 'facility': 1, 'having': 1, 'rescheduled': 1, 'acute': 1, 'illness': 1, 'follow-up': 1, 'randomisation': 1, '2.3': 1, 'Analytical': 1, 'Procedures': 1, '2.3.1': 1, 'assessing': 1, 'general': 1, 'status': 1, 'measure-': 1, 'ment': 1, '720': 1, 'Co.': 1, 'Seoul': 1, 'Republic': 1, 'Korea': 1, 'investigators': 1, 'waist-to-hip': 1, 'ratio': 1, 'twice': 1, 'standardised': 1, 'inelastic': 1, '150': 1, 'tape': 1, 'midway': 1, 'inferior': 1, 'border': 1, 'costal': 1, 'arch': 1, 'iliac': 1, 'crest': 1, 'midaxillary': 1, 'line': 1, 'hip': 1, 'maximum': 1, 'posterior': 1, 'projection': 1, 'gluteal': 1, 'muscles': 1, '2.3.2': 1, 'Sampling': 1, 'Storage': 1, 'cubital': 1, 'vein': 1, 'comprised': 1, 'complete': 1, 'active': 1, 'pe-': 1, 'riod': 1, 'approx': 1, 'taken': 1, 'stored': 1, 'pseudonymised': 1, '−80': 1, '◦C': 1, 'centrifugation': 1, 'basic': 1, 'c-reactive': 1, 'protein': 1, 'con-': 1, 'centration': 1, 'platelet': 1, 'col-': 1, 'laboration': 1, 'Concentrations': 1, 'deter-': 1, 'mined': 1, 'cobas': 1, '8000': 1, 'analyzer': 1, 'Roche': 1, 'Mannheim': 1, 'reagents': 1, 'traceable': 1, 'international': 1, 'reference': 1, 'standards': 1, 'quality': 1, 'laboratory': 1, 'routine': 1, 'coefficients': 1, 'references': 1, 'calculated': 1, 'equation': 1, 'concentrations': 1, 'beta-hydroxy-butyrate': 1, 'quantified': 1, 'state': 1, 'β-ketone': 1, 'strip': 1, 'strips': 1, 'then': 1, 'anal-': 1, 'ysed': 1, 'appropriate': 1, 'reader': 1, 'FreeStyle': 1, 'Libre': 1, 'Wiesbaden': 1, '2.3.3': 1, 'Tolerance': 1, 'Test': 1, 'once': 1, 'start': 1, '300': 1, 'liquid': 1, 'drink': 1, 'containing': 1, 'g': 1, 'Germania': 1, 'Pharmazeutika': 1, 'GesmbH': 1, 'Glucoral': 1, 'citron': 1, 'Wien': 1, 'exposition': 1, '90': 1, '120': 1, 'min': 1, 'point-of-care': 1, 'device': 1, 'Biosen': 1, 'S-Line': 1, 'EKF-Diagnostic': 1, 'Barleben': 1, 'monitoring': 1, 'system': 1, 'run-in': 1, 'sensor': 1, 'Interstitial': 1, 'internationally': 1, 'metrics': 1, '2.3.4': 1, 'Nutritional': 1, 'Tracking': 1, 'diary': 1, 'introduced': 1, '5.0.1': 1, 'Build': 1, '-gms-release': 1, 'Bremen': 1, 'They': 1, 'patterns': 1, 'consecutive': 1, 'scanning': 1, 'barcodes': 1, 'searching': 1, 'database': 1, 'quantities': 1, 'created': 1, 'researchers': 1, 'monitored': 1, 'accounts': 1, 'tracked': 1, 'quantity': 1, 'timing': 1, 'photographic': 1, 'pictures': 1, 'matched': 1, 'We': 1, 'following': 1, 'soon': 1, 'weigh': 1, 'details': 1, 'brand': 1, 'names': 1, 'mealtimes': 1, 'If': 1, 'weighing': 1, 'household': 1, 'Emphasis': 1, 'placed': 1, 'documenting': 1, 'meals': 1, 'prior': 1, 'allow': 1, 'able': 1, 'contact': 1, 'researcher': 1, 'questions': 1, 'Definition': 1, 'Protocols': 1, '2.4.1': 1, 'least': 1, 'set': 1, 'slots': 1, 'chosen': 1, '2.4.2': 1, 'interruption': 1, 'Only': 1, 'prohibited': 1, 'opportunity': 1, 'advised': 1, 'occurred': 1, 'recommendation': 1, 'choose': 1, 'timeframe': 1, 'adhering': 1, 'frames': 1, '2.4.3': 1, 'occurring': 1, 'alternate': 1, 'beverages': 1, 'compiled': 1, '16.83': 1, '24031120': 1, 'Corporation': 1, 'One': 1, 'Way': 1, 'Redmond': 1, 'WA': 1, 'Once': 1, 'collection': 1, 'Prism': 1, '9.4.1': 1, 'tested': 1, 'Shapiro–Wilk': 1, 'presenting': 1, 'IQR': 1, 'minima': 1, 'maxima': 1, 'charac-': 1, 'teristics': 1, 'variance': 1, 'measures': 1, 'detect': 1, 'interaction': 1, 'fac-': 1, 'tors': 1, 'curve': 1, 'trapezoidal': 1, 'rule': 1, 'Subsequently': 1, 'adjusted': 1, 'post': 1, 'hoc': 1, 'paired': 1, 't-test': 1, 'means': 1, 'significance': 1, 'accepted': 1, 'highlighted': 1, 'evident': 1, 'Opting': 1, 'shorter': 1, 'yielded': 1, 'longer': 1, 'As': 1, 'operated': 1, 'PP': 1, 'principle': 1, 'deviated': 1, 'prescribed': 1, 'final': 1, 'statis-': 1, 'tical': 1, 'screened': 1, 'Eleven': 1, 'adults': 1, 'nine': 1, 'age': 1, 'Participants´': 1, 'Overall': 1, 'p-Values': 1, 'Age': 1, 'y': 1, '26.3': 1, '4.1': 1, '25.8': 1, '25.4': 1, '0.94': 1, '78.0': 1, '14.1': 1, '79.4': 1, '18.4': 1, '72.5': 1, '10.4': 1, '76.8': 1, '9.2': 1, 'Height': 1, '177.0': 1, '8.5': 1, '177.8': 1, '11.3': 1, '176.0': 1, '6.5': 1, '176.4': 1, '6.4': 1, '25.0': 1, '4.5': 1, '23.2': 1, '24.7': 1, 'Waist-to-hip-Ratio': 1, '0.89': 1, '0.88': 1, '0.86': 1, 'Flow': 1, 'study-specific': 1, 'features': 1, '3.1.1': 1, '∆−0.60': 1, '∆0.20': 1, '∆−0.35': 1, '0.69': 1, 'individually': 1, 'ns': 1, 'Abbreviation': 1, '3.1.2': 1, 'unchanged': 1, '∆0.60': 1, 'insignif-': 1, '∆−1.1': 1, '∆−1.90': 1, '1.6': 1, '3.1.3': 1, 'Waist-to-Hip-Ratio': 1, 'waist-to-hip-ratio': 1, 'schedule': 1, '∆WHR': 1, '∆−0.09': 1, '3.2': 1, '3.2.1': 1, 'Percentage': 1, 'regardless': 1, '∆0.19': 1, '1.86': 1, '∆−0.37': 1, '1.13': 1, '∆−0.55': 1, 'percentage': 1, 'differed': 1, '∆−0.31': 1, '0.54': 1, '1.90': 1, '1.18': 1, '3.2.2': 1, 'Fat-Free': 1, '∆0.41': 1, '1.80': 1, '∆−0.74': 1, 'Nevertheless': 1, '−1.36': 1, '1.48': 1, '3.2.3': 1, 'Skeletal': 1, 'Muscle': 1, '∆0.31': 1, '1.04': 1, '∆−0.52': 1, 'detected': 1, '−0.85': 1, '3.3': 1, 'Diary': 1, 'Those': 1, 'self-selected': 1, 'eat-': 1, 'ing': 1, 'approximately': 1, 'statistical': 1, 'At': 1, 'intakes': 1, '∆−119.2': 1, '444.6': 1, '∆−36.17': 1, '293.3': 1, '∆−481.6': 1, '270.1': 1, '0.002': 1, 'Some': 1, 'tracking': 1, 'Carbohydrates': 1, '∆−96.85': 1, '193.7': 1, '∆−141.0': 1, '156.4': 1, '∆−256.2': 1, '249.1': 1, 'Proteins': 1, '∆−10.16': 1, '58.37': 1, '∆25.67': 1, '42.27': 1, '∆−115.7': 1, '49.82': 1, 'Fats': 1, '∆−60.96': 1, '189.2': 1, '∆10.11': 1, '126.6': 1, '0.83': 1, '∆−154.4': 1, '105.0': 1, '0.008': 1, 'kilocalorie': 1, 'Inflammatory': 1, '3.4.1': 1, 'C-Reactive': 1, 'Protein': 1, '∆−3.25': 1, '11.87': 1, '∆−2.20': 1, '2.56': 1, '0.19': 1, '∆1.10': 1, '23.03': 1, '0.92': 1, '3.4.2': 1, '∆15.10': 1, '13.45': 1, '∆16.75': 1, '11.53': 1, '∆22.80': 1, '23.48': 1, '∆3.60': 1, '7.03': 1, '0.14': 1, '∆10.75': 1, '9.03': 1, '∆2.40': 1, '7.50': 1, '10.97': 1, '3.37': 1, '∆25.40': 1, '21.45': 1, 'unaffected': 1, '3.4.3': 1, 'Triglycerides': 1, 'signif-': 1, '−24.00': 1, '23.19': 1, '∆−22.80': 1, '40.31': 1, '∆3.80': 1, '43.20': 1, '0.79': 1, '3.4.4': 1, 'Ketone': 1, 'Bodies': 1, '0.21': 1, '−0.03': 1, 'ketones': 1, '0.84': 1, '3.4.5': 1, 'Count': 1, 'appendices': 1, 'shows': 1, '3.5': 1, '3.5.1': 1, 'CGM-Derived': 1, 'Mean': 1, '−0.20': 1, '12.79': 1, '0.97': 1, 'stable': 1, '∆−2.50': 1, '14.85': 1, '∆−4.20': 1, '11.48': 1, '∆1.40': 1, '7.02': 1, '−2.50': 1, '2.12': 1, '∆3.20': 1, '4.03': 1, 'alter-': 1, 'ation': 1, '0.31': 1, '4.37': 1, '0.62': 1, '∆3.70': 1, '7.07': 1, '∆1.72': 1, '4.02': 1, 'arms': 1, 'Comparison': 1, 'glycaemic': 1, 'Glycaemic': 1, '97': 1, 'percentages': 1, 'above': 1, '181': 1, '10.1–13.9': 1, '3.0–3.9': 1, '70–180': 1, '3.9–10.0': 1, '3.5.2': 1, 'regimes': 1, '∆−452': 1, '−560–': 1, '−344': 1, '0.72': 1, '∆856': 1, '1027–745': 1, '∆635': 1, '−301–1570': 1, '∆−1.39': 1, '8.89': 1, '∆4.76': 1, '4.90': 1, '∆5.20': 1, '7.13': 1, 'Discussion': 1, 'To': 1, 'best': 1, 'knowledge': 1, 'first': 1, 'feasi-': 1, 'bility': 1, 'partly': 1, 'usual': 1, 'pattern': 1, 'tendency': 1, 'supported': 1, 'short-term': 1, 'non-alcoholic': 1, 'fatty': 1, 'liver': 1, '12-week': 1, 'program': 1, 'ad': 1, 'libitum': 1, 'feasting': 1, 'resulted': 1, 'programs': 1, 'control': 1, 'confirmed': 1, 'summarised': 1, 'leads': 1, 'modest': 1, 'restricted': 1, '4–10': 1, 'h/day': 1, 'context': 1, 'explained': 1, 'Previous': 1, 'impact': 1, 'contrary': 1, 'reduce': 1, '30,31': 1, 'Recent': 1, 'prevented': 1, 'gains': 1, '5,33,34': 1, '34,35': 1, 'appeared': 1, 'insignificant': 1, 'Concerning': 1, 'circum-': 1, 'ference': 1, 'concluded': 1, 'term': 1, 'do': 1, 'decreases': 1, 'impor-': 1, 'tance': 1, 'lifestyle': 1, 'practice': 1, 'limited': 1, 'Indeed': 1, 'concerning': 1, 'self-reported': 1, 'highest': 1, '93': 1, 'whereas': 1, '78': 1, 'adherences': 1, 'suggesting': 1, 'difficult': 1, 'light': 1, 'adher-': 1, 'ence': 1, 'persists': 1, 'worsens': 1, 'already': 1, 'burdened': 1, 'practical': 1, 'application': 1, 'care': 1, 'crucial': 1, 'address': 1, 'problem': 1, 'Hence': 1, 'must': 1, 'tailored': 1, 'meet': 1, 'needs': 1, 'deficiency': 1, 'self-assessment': 1, 'entered': 1, 'incorrectly': 1, 'provides': 1, 'level': 1, 'variables': 1, '38,39': 1, 'haemato-': 1, 'logical': 1, 'indica-': 1, 'tions': 1, 'conducting': 1, 'comprehensive': 1, 'clarity': 1, 'coincidental': 1, 'noted': 1, 'although': 1, 'result': 1, 'irrelevant': 1, 'globally': 1, 'attributed': 1, 'suboptimal': 1, 'hormonal': 1, 'rising': 1, 'stress': 1, 'derailments': 1, 'wearing': 1, 'CGMs': 1, 'caution': 1, 'interpreting': 1, 'observations': 1, 'reasons': 1, 'known': 1, 'dieting': 1, 'vary': 1, 'affected': 1, 'activity': 1, 'circadian': 1, 'rhythms': 1, 'Finally': 1, 'play': 1, 'role': 1, 'fasting-specific': 1, 'improved': 1, 'principles': 1, 'particularly': 1, 'While': 1, 'humans': 1, 'mellitus': 1, 'note': 1, 'exceptions': 1, 'lead': 1, 'improvements': 1, 'others': 1, 'minimal': 1, 'highlighting': 1, 'personalised': 1, '41,42': 1, 'contribution': 1, 'programmes': 1, 'consider': 1, 'compo-': 1, 'sition': 1, 'density': 1, 'reporting': 1, 'limitations': 1, 'number': 1, 'hypothesis-generating': 1, 'investigations': 1, 'scientific': 1, 'base': 1, 'Longer-term': 1, 'degree': 1, 'Third': 1, 'self-completed': 1, 'mobile': 1, 'phone': 1, 'maintenance': 1, 'Thus': 1, 'deficit': 1, 'estimates': 1, 'Fourth': 1, 'dropout': 1, 'very': 1, 'high': 1, 'so': 1, 'way': 1, 'Fifth': 1, 'added': 1, 'traditional': 1, 'hypocaloric': 1, 'see': 1, 'Sixth': 1, 'Due': 1, 'pilot': 1, 'focussed': 1, 'subsequent': 1, 'conduct': 1, 'Seventh': 1, 'generalised': 1, 'differentiation': 1, 'gender': 1, 'made': 1, 'sub-analysis': 1, 'Conclusions': 1, 'insights': 1, 'advantages': 1, 'summary': 1, 'appears': 1, 'efficiently': 1, 'transferable': 1, 'life': 1, 'indi-': 1, 'viduals': 1, '44,45': 1, 'noteworthy': 1, 'strict': 1, 'poses': 1, 'challenges': 1, 'Author': 1, 'Contributions': 1, 'Conceptualization': 1, 'methodology': 1, 'software': 1, 'validation': 1, 'formal': 1, 'investigation': 1, 'resources': 1, 'curation': 1, 'writing—original': 1, 'draft': 1, 'preparation': 1, 'writing—review': 1, 'editing': 1, 'J.W.': 1, 'P.Z.': 1, 'S.H.': 1, 'R.T.Z.': 1, 'J.S.': 1, 'N.B.W.': 1, 'M.P.E.': 1, 'T.N.': 1, 'K.K.': 1, 'T.V.': 1, 'S.R.': 1, 'H.S': 1, 'visualization': 1, 'supervision': 1, 'project': 1, 'administration': 1, 'funding': 1, 'acquisition': 1, 'read': 1, 'agreed': 1, 'published': 1, 'version': 1, 'manuscript': 1, 'Funding': 1, 'funded': 1, 'Deutsche': 1, 'Forschungsgemeinschaft': 1, 'DFG': 1, 'Re-': 1, 'search': 1, 'Foundation': 1, '—491183248': 1, 'Institutional': 1, 'Board': 1, 'accordance': 1, 'Declara-': 1, 'Ethics': 1, 'Committee': 1, '22-014–GB': 1, 'Consent': 1, 'involved': 1, 'Written': 1, 'publish': 1, 'paper': 1, 'Availability': 1, 'available': 1, 'upon': 1, 'reasonable': 1, 'request': 1, 'Acknowledgments': 1, 'want': 1, 'co-authors': 1, 'would': 1, 'like': 1, 'Conflicts': 1, 'Interest': 1, 'declare': 1, 'conflicts': 1, 'interest': 1, 'Appendix': 1, '∆haematological': 1, 'Leukocytes': 1, '1.23': 1, '∆−0.88': 1, '1.60': 1, '∆−0.70': 1, 'Erythrocytes': 1, '0.28': 1, '∆−0.25': 1, '∆−0.03': 1, 'Haemoglobin': 1, '∆−0.08': 1, '∆−0.24': 1, '1.50': 1, '0.254': 1, 'Haematocrit': 1, '1.81': 1, '∆−2.67': 1, '3.98': 1, '1.41': 1, '1.37': 1, '0.82': 1, '∆0.50': 1, '2.59': 1, '∆−0.63': 1, '2.13': 1, 'pg': 1, '0.75': 1, '∆−0.13': 1, '1.05': 1, '∆0.38': 1, '∆−0.12': 1, '∆0.27': 1, '0.73': 1, '∆−0.28': 1, 'Cont': 1, 'Thrombocytes': 1, '∆3.10': 1, '22.30': 1, '0.67': 1, '∆1.67': 1, '33.00': 1, '∆−14.13': 1, '26.42': 1, '∆0.25': 1, 'Neutrophile': 1, '∆−0.72': 1, '1.49': 1, 'Immature': 1, '∆−0.001': 1, '0.76': 1, 'Eosinophile': 1, '∆0.03': 1, 'Basophile': 1, 'Monocytes': 1, '0.18': 1, '∆−0.07': 1, '0.045': 1, 'Lymphocytes': 1, '0.96': 1, '0.11': 1, '0.47': 1, 'corpuscular/cell': 1, 'platelets': 1, 'References': 1, '2023|World': 1, '//www.worldobesity.org/resources/resource-': 1, 'library/world-obesity-atlas-2023': 1, 'September': 1, 'Organization': 1, '//www.who.int/news-room/fact-sheets/detail/': 1, 'obesity-and-overweight': 1, 'March': 1, 'St-Onge': 1, 'Ard': 1, 'Baskin': 1, 'Chiuve': 1, 'S.E': 1, 'H.M.': 1, 'Kris-Etherton': 1, 'Meal': 1, 'Timing': 1, 'Frequency': 1, 'Implications': 1, 'Scientific': 1, 'American': 1, 'Association': 1, 'Circulation': 1, '2017': 1, '135': 1, 'e96–e121': 1, 'Welton': 1, 'Minty': 1, 'O': 1, 'Driscoll': 1, 'Willms': 1, 'Poirier': 1, 'Madden': 1, 'Can': 1, 'Fam': 1, 'Physician': 1, '66': 1, '117': 1, 'Efficiency': 1, 'MATADOR': 1, '129–138': 1, 'L.K': 1, 'Smith': 1, 'Martin': 1, 'C.K': 1, 'Ravussin': 1, 'Nonobese': 1, 'Am': 1, '2005': 1, '81': 1, '69–73': 1, 'Stekovic': 1, 'Hofer': 1, 'Aon': 1, 'M.A': 1, 'Royer': 1, 'Pein': 1, 'Stadler': 1, 'J.T': 1, 'Pendl': 1, 'Prietl': 1, 'Url': 1, 'Aging': 1, 'Non-Obese': 1, 'Metab': 1, '462–476.e6': 1, 'Streja': 1, 'Marliss': 1, 'E.B': 1, 'Steiner': 1, 'Prolonged': 1, 'Triglyceride': 1, 'Kinetics': 1, '1977': 1, '505–516': 1, 'Crupi': 1, 'A.N': 1, 'Haase': 1, 'Brandhorst': 1, 'Longo': 1, 'V.D': 1, 'Periodic': 1, 'Curr': 1, 'Diab': 1, 'Rep.': 1, '83': 1, 'N.J.': 1, 'P.N': 1, 'Aziz': 1, 'Muller': 1, 'Schauer': 1, 'Oulhaj': 1, 'Efficacy': 1, 'Safety': 1, 'People': 1, 'Insulin-Treated': 1, 'INTERFAST-2': 1, '—A': 1, '463–468': 1, 'Allaf': 1, 'Elghazaly': 1, 'Mohamed': 1, 'O.G': 1, 'Fareen': 1, 'M.F.K': 1, 'Zaman': 1, 'Salmasi': 1, 'A.M.': 1, 'Tsilidis': 1, 'Dehghan': 1, 'Cochrane': 1, 'Syst': 1, 'CD013496': 1, 'Cermak': 1, 'Gulich': 1, 'Abdominal': 1, 'Primary': 1, 'Pre–Post': 1, '2854': 1, 'Daily': 1, 'Regimen': 1, 'More': 1, 'Effective': 1, '2011': 1, 'e593–e601': 1, 'Antoni': 1, 'M.D': 1, 'Johnston': 1, 'J.D': 1, 'Exploring': 1, 'Moderate': 1, 'Intervention': 1, 'Intake': 1, 'Adiposity': 1, 'Free-Living': 1, 'Human': 1, 'Sci': 1, 'e22': 1, 'Harriss': 1, 'D.J': 1, 'Macsween': 1, 'Atkinson': 1, 'Ethical': 1, 'Update': 1, 'Sports': 1, '813–817': 1, 'Elsayed': 1, 'Aleppo': 1, 'Aroda': 1, 'V.R': 1, 'Bannuru': 1, 'R.R': 1, 'Brown': 1, 'F.M': 1, 'Bruemmer': 1, 'Collins': 1, 'Hilliard': 1, 'Isaacs': 1, 'E.L.': 1, 'Classification': 1, 'Diagnosis': 1, 'Diabetes—2023': 1, 'S19–S40': 1, 'Northcote': 1, 'R.J.': 1, 'Canning': 1, 'G.P': 1, 'Ballantyne': 1, 'Electrocardiographic': 1, 'Findings': 1, 'Male': 1, 'Veteran': 1, 'Endurance': 1, 'Athletes': 1, 'Br': 1, '1989': 1, '61': 1, '155': 1, 'Rijnbeek': 1, 'P.R': 1, 'Van': 1, 'Herpen': 1, 'Bots': 1, 'Verweij': 1, 'Hofman': 1, 'Hillege': 1, 'Numans': 1, 'Swenne': 1, 'C.A': 1, 'Witteman': 1, 'J.C.M': 1, 'Normal': 1, 'Values': 1, 'Electrocardiogram': 1, 'Ages': 1, '16–90': 1, 'Years': 1, 'Electrocardiol': 1, '2014': 1, '47': 1, '914–921': 1, 'Urbaniak': 1, 'G.C': 1, 'Plous': 1, 'Computer': 1, '//www.randomizer': 1, 'org/about/': 1, 'June': 1, 'Levy': 1, 'R.I.': 1, 'Fredrickson': 1, 'D.S': 1, 'Estimation': 1, 'Concentration': 1, 'Low-Density': 1, 'Lipoprotein': 1, 'Use': 1, 'Preparative': 1, 'Ultracentrifuge': 1, 'Chem': 1, '1972': 1, '499–502': 1, 'Mueller': 1, 'Yildirim': 1, 'Performance': 1, 'Intermittently': 1, 'Scanned': 1, 'IsCGM': 1, 'System': 1, 'High': 1, 'Challenge': 1, 'Diabetes—A': 1, 'Secondary': 1, 'Outcome': 1, 'Biosensors': 1, 'J.R.': 1, 'Günther': 1, 'Zunner': 1, 'B.E.M': 1, 'Accuracy': 1, 'Real': 1, 'Liquid': 1, 'Solution': 1, 'Challenges': 1, 'Cross-Over': 1, 'Sensors': 1, '3104': 1, 'Battelino': 1, 'Danne': 1, 'Bergenstal': 1, 'R.M': 1, 'Amiel': 1, 'Beck': 1, 'Biester': 1, 'Bosi': 1, 'Buckingham': 1, 'B.A': 1, 'Cefalu': 1, 'Close': 1, 'K.L': 1, 'Targets': 1, 'Interpretation': 1, 'Recommendations': 1, 'International': 1, 'Consensus': 1, '1593–1603': 1, 'Baum': 1, 'Martinez': 1, 'Peters': 1, 'Schwarz': 1, 'Schuppelius': 1, 'Steckhan': 1, 'Koppold-Liebscher': 1, 'Michalsen': 1, 'Pivovarova-': 1, 'Ramich': 1, 'Validation': 1, 'Smartphone': 1, 'Application': 1, 'Compliance': 1, '3697': 1, 'Hong': 1, 'Kim': 1, 'K.W': 1, 'Kang': 1, 'Cha': 1, 'B.W': 1, 'Effectiveness': 1, 'Reduce': 1, '1645': 1, 'Tripepi': 1, 'Chesnaye': 1, 'N.C.': 1, 'Dekker': 1, 'F.W': 1, 'Zoccali': 1, 'Jager': 1, 'K.J': 1, 'Intention': 1, 'Treat': 1, 'Nephrology': 1, '513–517': 1, 'Qin': 1, 'Y.L': 1, 'Shi': 1, 'J.H': 1, 'Zeng': 1, 'M.J.': 1, 'Zhou': 1, 'W.': 1, 'R.Q': 1, 'Dyslipidaemia': 1, 'Non-Alcoholic': 1, 'Fatty': 1, 'Liver': 1, 'BMC': 1, 'Gastroenterol': 1, '219': 1, 'McStay': 1, 'Gabel': 1, 'Physiol': 1, '600': 1, '1253–1264': 1, 'Chow': 1, 'L.S': 1, 'Manoogian': 1, 'E.N.C': 1, 'Alvear': 1, 'Fleischer': 1, 'J.G': 1, 'Thor': 1, 'Dietsche': 1, 'Hodges': 1, 'Esch': 1, 'Malaeb': 1, 'Measures': 1, 'Who': 1, 'Are': 1, '860–869': 1, '30.': 1, 'Oliveira': 1, 'Maranhão': 1, 'Pureza': 1, 'I.R': 1, 'da': 1, 'Junior': 1, 'A.E': 1, 'Praxedes': 1, 'Lessa': 1, 'Vasconcelos': 1, 'L.G': 1, 'Lima': 1, 'Macena': 1, 'Vieira': 1, 'Melo': 1, 'I.S': 1, 'Menezes': 1, 'Toledo': 1, 'Florêncio': 1, 'Bueno': 1, 'Vital': 1, 'Signs': 1, 'Low-Income': 1, '12-Month': 1, '759–766': 1, '31': 1, 'Lowe': 1, 'Wu': 1, 'Rohdin-Bibby': 1, 'Moore': 1, 'A.H.': 1, 'Y.E': 1, 'Philip': 1, 'Vittinghoff': 1, 'Heymsfield': 1, 'S.B': 1, 'Olgin': 1, 'J.E': 1, 'TREAT': 1, 'Intern': 1, '180': 1, '1491–1499': 1, 'Moro': 1, 'Tinsley': 1, 'Bianco': 1, 'Marcolin': 1, 'Pacelli': 1, 'Q.F': 1, 'Battaglia': 1, 'Palma': 1, 'Gentil': 1, 'Neri': 1, 'Paoli': 1, 'Eight': 1, 'Weeks': 1, 'Basal': 1, 'Maximal': 1, 'Strength': 1, 'Inflammation': 1, 'Factors': 1, 'Resistance-Trained': 1, 'Males': 1, '2016': 1, '290': 1, 'Dionne': 1, 'I.J': 1, 'Sénéchal': 1, 'Bouchard': 1, 'Carpentier': 1, 'A.C.': 1, 'Ardilouze': 1, 'J.L': 1, 'Tremblay': 1, 'Leblanc': 1, 'Brochu': 1, 'Short-': 1, 'Long-Term': 1, 'Restrictive': 1, 'Profile': 1, 'Postmenopausal': 1, 'Menopause': 1, '2012': 1, '870–876': 1, '34': 1, 'Carter': 1, 'Clifton': 1, 'P.M.': 1, 'Keogh': 1, 'J.B.': 1, 'Compared': 1, 'Glycemic': 1, 'Noninferiority': 1, 'Netw': 1, 'Open': 1, 'e180756': 1, 'Coutinho': 1, 'Halset': 1, 'E.H.': 1, 'Gåsbakk': 1, 'Rehfeld': 1, 'J.F': 1, 'Kulseng': 1, 'Truby': 1, 'Martins': 1, 'Compensatory': 1, 'Mechanisms': 1, 'Activated': 1, '815–823': 1, 'R.V': 1, 'Roekenes': 1, 'J.A': 1, 'Zibellini': 1, 'Zhu': 1, 'Gibson': 1, 'A.A.': 1, 'Provide': 1, 'Mol': 1, 'Endocrinol': 1, '418': 1, 'Pt': 1, '153–172': 1, 'Soliman': 1, 'G.A': 1, 'Role': 1, 'Front': 1, '1017254': 1, 'Moehl': 1, 'Donahoo': 1, 'Marosi': 1, 'Mainous': 1, 'A.G.': 1, 'Leeuwenburgh': 1, 'Mattson': 1, 'Flipping': 1, 'Switch': 1, 'Applying': 1, '254–268': 1, '39': 1, 'Cioffi': 1, 'Evangelista': 1, 'Ponzo': 1, 'V.': 1, 'Ciccone': 1, 'Soldati': 1, 'Santarpia': 1, 'Contaldo': 1, 'Pasanisi': 1, 'Ghigo': 1, 'Bo': 1, 'Outcomes': 1, '371': 1, 'Fontana': 1, 'Promote': 1, 'Slow': 1, 'Ageing': 1, 'Nat': 1, 'Cardiol': 1, '566–577': 1, '41': 1, 'Fulcher': 1, 'Scott': 1, 'Jenkins': 1, 'A.J': 1, 'Management': 1, 'Multidisciplinary': 1, 'Emerging': 1, 'Paradigm': 1, 'Springer': 1, 'Cham': 1, 'pp': 1, '1–52': 1, 'Shazman': 1, 'Mellitus': 1, 'through': 1, 'Machine': 1, 'Learning': 1, '3926': 1, 'Ma': 1, 'Z.': 1, 'Guan': 1, 'X.': 1, 'Fu': 1, 'Cui': 1, 'Dong': 1, 'Better': 1, '1781': 1, '44': 1, 'Krause': 1, 'Lampert': 1, 'Overweight/Obesity': 1, 'Self-Rated': 1, 'Adolescents': 1, 'Socio-Economic': 1, 'School': 1, 'Have': 1, 'That': 1, 'Environ': 1, 'Res': 1, '2262–2276': 1, '45': 1, 'Haftenberger': 1, 'Mensink': 1, 'G.B.M': 1, 'Herzog': 1, 'Kluttig': 1, 'Greiser': 1, 'K.H': 1, 'Merz': 1, 'Nöthlings': 1, 'U.': 1, 'Schlesinger': 1, 'Vogt': 1, 'Thorand': 1, 'Changes': 1, 'Seven': 1, 'Population-Based': 1, 'Studies': 1, 'Eur': 1, '300–305': 1, 'Disclaimer/Publisher': 1, 'Note': 1, 'statements': 1, 'opinions': 1, 'contained': 1, 'publications': 1, 'solely': 1, 'author': 1, 'contributor': 1, 'disclaim': 1, 'responsibility': 1, 'injury': 1, 'property': 1, 'resulting': 1, 'ideas': 1, 'instructions': 1, 'referred': 1, 'content': 1})}\n"
          ]
        }
      ],
      "source": [
        "print(fasting_metabolic_query[list(fasting_metabolic_query.keys())[0]]) # can use this to check specific url values"
      ]
    },
    {
      "cell_type": "code",
      "execution_count": 13,
      "metadata": {
        "id": "2zFM_aQXdPR8"
      },
      "outputs": [],
      "source": [
        "import pickle\n",
        "\n",
        "# save query dict\n",
        "with open(\"word_counts.pkl\", \"wb\") as f:\n",
        "    pickle.dump(fasting_metabolic_query, f)\n",
        "\n",
        "# load query dict\n",
        "with open(\"word_counts.pkl\", \"rb\") as f:\n",
        "    my_data = pickle.load(f)\n"
      ]
    }
  ],
  "metadata": {
    "colab": {
      "provenance": []
    },
    "kernelspec": {
      "display_name": "base",
      "language": "python",
      "name": "python3"
    },
    "language_info": {
      "codemirror_mode": {
        "name": "ipython",
        "version": 3
      },
      "file_extension": ".py",
      "mimetype": "text/x-python",
      "name": "python",
      "nbconvert_exporter": "python",
      "pygments_lexer": "ipython3",
      "version": "3.11.6"
    }
  },
  "nbformat": 4,
  "nbformat_minor": 0
}
