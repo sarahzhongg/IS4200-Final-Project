{
  "nbformat": 4,
  "nbformat_minor": 0,
  "metadata": {
    "colab": {
      "provenance": []
    },
    "kernelspec": {
      "name": "python3",
      "display_name": "Python 3"
    },
    "language_info": {
      "name": "python"
    }
  },
  "cells": [
    {
      "cell_type": "code",
      "source": [
        "!pip install pymupdf"
      ],
      "metadata": {
        "colab": {
          "base_uri": "https://localhost:8080/"
        },
        "id": "lJvyl4TNQGHj",
        "outputId": "f955dc18-c547-4900-c7c1-972e6a5de7ea"
      },
      "execution_count": 38,
      "outputs": [
        {
          "output_type": "stream",
          "name": "stdout",
          "text": [
            "Requirement already satisfied: pymupdf in /usr/local/lib/python3.11/dist-packages (1.25.5)\n"
          ]
        }
      ]
    },
    {
      "cell_type": "code",
      "source": [
        "import requests\n",
        "\n",
        "import requests\n",
        "import fitz  # PyMuPDF\n",
        "from io import BytesIO\n",
        "\n",
        "import nltk\n",
        "nltk.download('punkt_tab')\n",
        "from nltk.tokenize import word_tokenize\n",
        "from collections import Counter\n",
        "import string"
      ],
      "metadata": {
        "colab": {
          "base_uri": "https://localhost:8080/"
        },
        "id": "PvgPI8z5Z0_5",
        "outputId": "8ed169f5-a84f-493b-9805-25876c996117"
      },
      "execution_count": 39,
      "outputs": [
        {
          "output_type": "stream",
          "name": "stderr",
          "text": [
            "[nltk_data] Downloading package punkt_tab to /root/nltk_data...\n",
            "[nltk_data]   Package punkt_tab is already up-to-date!\n"
          ]
        }
      ]
    },
    {
      "cell_type": "code",
      "source": [
        "smoking_query = {} # TODO: name this whatever for your particular query, make sure you replace future references to smoking_query with the new name\n",
        "\n",
        "def get_papers(query, limit=100):\n",
        "    url = \"https://api.semanticscholar.org/graph/v1/paper/search\"\n",
        "    params = {\n",
        "        \"query\": query,\n",
        "        \"limit\": limit,\n",
        "        \"fields\": \"title,authors,year,url,citationCount,referenceCount\"\n",
        "    }\n",
        "    response = requests.get(url, params=params)\n",
        "    return response.json()[\"data\"]\n",
        "\n",
        "papers = get_papers(\"Effects of smoking on lung cancer\") # TODO: Change this for respective query\n",
        "for i, paper in enumerate(papers, 1):\n",
        "  if i <= 30 or i > 70:\n",
        "    authors = paper.get('authors', 'N/A')\n",
        "    if authors != 'N/A':\n",
        "      authors = [author['name'] for author in authors]\n",
        "    smoking_query[paper[\"url\"]] = {'title': paper.get(\"title\", \"N/A\"), 'authors': authors, 'year': paper.get(\"year\", 0),\n",
        "                                   'citations': paper.get(\"citationCount\", 0), 'references': paper.get(\"referenceCount\", 0),\n",
        "                                   'relevance': 2 if i <= 30 else 1}"
      ],
      "metadata": {
        "id": "3NcYbQYiJ87N"
      },
      "execution_count": 40,
      "outputs": []
    },
    {
      "cell_type": "code",
      "source": [
        "smoking_query.keys() # first 30 are relevant documents (relevance = 2), last 30 are semi-relevant documents (relevance = 1)"
      ],
      "metadata": {
        "colab": {
          "base_uri": "https://localhost:8080/"
        },
        "id": "pw0_mDo_UGYs",
        "outputId": "718b91b2-c034-44ed-d778-4713dad7927c"
      },
      "execution_count": 41,
      "outputs": [
        {
          "output_type": "execute_result",
          "data": {
            "text/plain": [
              "dict_keys(['https://www.semanticscholar.org/paper/5cdc4a4dffe96963f6600c6bd422b2e0c8ae79c4', 'https://www.semanticscholar.org/paper/6ff89b62e1ffa490050db958abb43b32e1bacc24', 'https://www.semanticscholar.org/paper/10cf5ba57728f06062351c19197d530cf92711a6', 'https://www.semanticscholar.org/paper/288733edb6fc7b954bcb4fbf430e9b5ba20bc5f8', 'https://www.semanticscholar.org/paper/d1a4a81f2763d3a25a5ff4ca78713be79c60231b', 'https://www.semanticscholar.org/paper/4f4315c7b33831e545eaf84c0614c3fcf785203f', 'https://www.semanticscholar.org/paper/886b716a9e249b54f67defad0821eef798ae510a', 'https://www.semanticscholar.org/paper/268600086ce7dfa282fae6e363d8c2674c906aa8', 'https://www.semanticscholar.org/paper/2877b325151ddd6eea962166677597f062e56502', 'https://www.semanticscholar.org/paper/861af2586241e55a979e102db79acea9eaca2b11', 'https://www.semanticscholar.org/paper/af773fc6d81e3cc0f1fc7eb2bf3dd2f95645c9e5', 'https://www.semanticscholar.org/paper/e6cc6233fcb6800d4570c872159c64857e428fbe', 'https://www.semanticscholar.org/paper/087e018ae1d95e1799e24f9e17cdcd56af84a522', 'https://www.semanticscholar.org/paper/bb110820acf4d492c996bc74acfb531bdc480f1b', 'https://www.semanticscholar.org/paper/7389668b7c32bcb662d42dbde25de03543f4ba6f', 'https://www.semanticscholar.org/paper/e61c4c248a97d10a1009139ceb27245ed4676cb1', 'https://www.semanticscholar.org/paper/52b521283f604535f644f481a1338200d87f4609', 'https://www.semanticscholar.org/paper/6fb84d2666787fed79939a02be8c6d767f6da481', 'https://www.semanticscholar.org/paper/7339563f11dbee03a247e427ee425f6360195a6e', 'https://www.semanticscholar.org/paper/096e515a15a6ad294557403486446d6b551052f4', 'https://www.semanticscholar.org/paper/d123c2c057f6c7552cf4b051dc94a992d0389ed9', 'https://www.semanticscholar.org/paper/2e32f7a482a397cfa15a0edb6baba7b4d981dafa', 'https://www.semanticscholar.org/paper/38da1efbe76b1dde2d726f48a16902717968129b', 'https://www.semanticscholar.org/paper/f52d8bb4a2f3d331e308cbf5c36fdab8c76682b0', 'https://www.semanticscholar.org/paper/275749da6c8bfffd06c399b4cca4f8da3a57812a', 'https://www.semanticscholar.org/paper/73fe7c5b7635be9222e26a723384d3fc5717f02d', 'https://www.semanticscholar.org/paper/e30e64e79bd36315d66c721be00264d9553eac6b', 'https://www.semanticscholar.org/paper/c885a2969be04873fc53d6ebc809817f3a5f2f5f', 'https://www.semanticscholar.org/paper/1b2b7abe2bf6ca7cd9f6c9d0a4dab894e34a54bc', 'https://www.semanticscholar.org/paper/a92b7fdd7f082b402c21d411d83e8f31f0cedf0e', 'https://www.semanticscholar.org/paper/81e361db4bee50cca747435f73eebed03cc2948a', 'https://www.semanticscholar.org/paper/2e55bc3d36ac8ddb35192356c367f1d4e79c3408', 'https://www.semanticscholar.org/paper/dd81d8d9292d5da251299cc8c38c620a18125d1e', 'https://www.semanticscholar.org/paper/b3aedeee136cb217c9c27d1102db1d23cc70742e', 'https://www.semanticscholar.org/paper/1376df0751944d34c7bf8b04c2eb16b7fc221a6d', 'https://www.semanticscholar.org/paper/a81f7911be4c4f73faf6ced56b87c44918f6cdc9', 'https://www.semanticscholar.org/paper/240596fd206f66f81b1704edec920931e22fc71a', 'https://www.semanticscholar.org/paper/21c193ccdb94e6e54ee8ab03832282138b0684bb', 'https://www.semanticscholar.org/paper/ab1625531c7de89b8b8b7d943657519807b41894', 'https://www.semanticscholar.org/paper/76ded5364597a6b4abadd6a155f67b262c2c3f7c', 'https://www.semanticscholar.org/paper/a2299ca622b5b6e8a6f3c631e0511e355378f277', 'https://www.semanticscholar.org/paper/16ce73e2543ddac7af0f0023662cd8ad34e6256c', 'https://www.semanticscholar.org/paper/0a6744c0aabf94d33399c22410f8a70e2742b5bd', 'https://www.semanticscholar.org/paper/5bdf2035baffef92be6d649f9569560277b42d98', 'https://www.semanticscholar.org/paper/40450eee89bc5831bfe0d04fa4aaf5e724182d6a', 'https://www.semanticscholar.org/paper/2d338a0e15102ec7f2f5e47d29abf9e9e167b97e', 'https://www.semanticscholar.org/paper/d4478ab412a6de1f5155e471e535bd31a1166180', 'https://www.semanticscholar.org/paper/c5be7ecba0a06c2f6e04dddd640e13197ed9324b', 'https://www.semanticscholar.org/paper/15e965058fb014d31296e6e0adcd9605198bcb14', 'https://www.semanticscholar.org/paper/53210f5b115d63aac14f127e5041ab322d160157', 'https://www.semanticscholar.org/paper/8144771f91fa303bf8d7d9a95903fbf4b5c2e38a', 'https://www.semanticscholar.org/paper/87ee7fc89b3cf7318be05dbd35678cfc501ba289', 'https://www.semanticscholar.org/paper/7425f3ca048b011e0680b1ad9c3df0d034a49ccc', 'https://www.semanticscholar.org/paper/20e13c41692f6fe26ab76c8d3750180193e8a71a', 'https://www.semanticscholar.org/paper/3eb1676762ed2eb1525851116c88a617d8685119', 'https://www.semanticscholar.org/paper/3e32467c10c841307027f0c070c78e73cc1aa3a4', 'https://www.semanticscholar.org/paper/d579551d13892084e7f753c2177fe49d1ee92b32', 'https://www.semanticscholar.org/paper/1a0f1d0b49ab4997ad2d4519e26e0d154a963ed2', 'https://www.semanticscholar.org/paper/5531a4371535a6027b672e5bd598c9d79222f112', 'https://www.semanticscholar.org/paper/23eab5affb53fe01edb455dea6f7b3e8dcf7348b'])"
            ]
          },
          "metadata": {},
          "execution_count": 41
        }
      ]
    },
    {
      "cell_type": "code",
      "source": [
        "def extract_text_from_pdf_url(pdf_urls):\n",
        "  urls = list(smoking_query.keys())\n",
        "  for i, pdf_url in enumerate(pdf_urls):\n",
        "    response = requests.get(pdf_url)\n",
        "    with fitz.open(stream=BytesIO(response.content), filetype=\"pdf\") as doc:\n",
        "      pdf_text = \"\\n\".join([page.get_text() for page in doc])\n",
        "    tokens = word_tokenize(pdf_text)\n",
        "    tokens = [token for token in tokens if token not in string.punctuation]\n",
        "    word_counts = Counter(tokens)\n",
        "    smoking_query[urls[i]]['tokens'] = word_counts\n",
        "\n",
        "# TODO\n",
        "pdf_urls = [] # fill out as list of pdf urls (need to get them manually), should be of size 60 (make sure it's in the same order as the urls in the previous box)\n",
        "extract_text_from_pdf_url(pdf_urls)"
      ],
      "metadata": {
        "id": "6CQZ2Od5O_6q"
      },
      "execution_count": 42,
      "outputs": []
    },
    {
      "cell_type": "code",
      "source": [
        "print(smoking_query[list(smoking_query.keys())[0]]) # can use this to check specific url values"
      ],
      "metadata": {
        "colab": {
          "base_uri": "https://localhost:8080/"
        },
        "id": "c1gkqBQHcivE",
        "outputId": "4f3969d4-bff3-4b0b-f395-aef77b12c0e4"
      },
      "execution_count": 43,
      "outputs": [
        {
          "output_type": "stream",
          "name": "stdout",
          "text": [
            "{'title': 'Differential effects of smoking on lung cancer mortality before and after household stove improvement in Xuanwei, China', 'authors': ['Kyoung Mu Lee', 'R. Chapman', 'M. Shen', 'J. Lubin', 'D. Silverman', 'Xingzhou He', 'H. Hosgood', 'Bingshu E. Chen', 'P. Rajaraman', 'N. Caporaso', 'J. Fraumeni', 'A. Blair', 'Q. Lan'], 'year': 2010, 'citations': 22, 'references': 16, 'relevance': 2}\n"
          ]
        }
      ]
    },
    {
      "cell_type": "code",
      "source": [
        "import pickle\n",
        "\n",
        "# save query dict\n",
        "with open(\"word_counts.pkl\", \"wb\") as f:\n",
        "    pickle.dump(smoking_query, f)\n",
        "\n",
        "# load query dict\n",
        "with open(\"word_counts.pkl\", \"rb\") as f:\n",
        "    my_data = pickle.load(f)\n"
      ],
      "metadata": {
        "id": "2zFM_aQXdPR8"
      },
      "execution_count": 44,
      "outputs": []
    }
  ]
}